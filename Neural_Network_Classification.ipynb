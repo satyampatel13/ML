
CO CST IMPLEMENTATION OF NEURAL NETWORK


Tutorial 3: Neural Network Classification
Dataset: Pima Indian Diabetes Dataset

This dataset is originally from the National Institute of Diabetes and Digestive and Kidney Diseases. The objective is to predict based on diagnostic measurements whether a patient has diabetes.

Several constraints were placed on the selection of these instances from a larger database. In particular, all patients here are females at least 21 years old of Pima Indian heritage.

Attributes of PIMA dataset:

Pregnancies: Number of times pregnant

Glucose: Plasma glucose concentration a 2 hours in an oral glucose tolerance test

BloodPressure: Diastolic blood pressure (mm Hg)

SkinThickness: Triceps skin fold thickness (mm)

Insulin: 2-Hour serum insulin (mu U/ml)

BMI: Body mass index (weight in kg/(height in m)^2)

DiabetesPedigreeFunction: Diabetes pedigree function

Age: Age (years)

Outcome: Class variable (0 or 1)

1. Mount the Google Drive

from google.colab import drive
drive.mount('/content/drive')
Drive already mounted at /content/drive; to attempt to forcibly remount, call drive.mount("/content/drive", force_remount=True).
2. Move to the place where data resides

%cd /content/drive/MyDrive/diabetes.csv
[Errno 2] No such file or directory: '/content/drive/MyDrive/diabetes.csv'
/content
!ls
 16020491643735375158119062460846.jpg
'1634987777182_Patentability search report- VAS (1).docx'
'1634987777182_Patentability search report- VAS (2).docx'
'1634987777182_Patentability search report- VAS (3).docx'
'1634987777182_Patentability search report- VAS.docx'
 1stop_reciept.pdf
 Alexa_abstract.txt
 alexa_voiceflow_link.txt
'Boom in Gaming .gdoc'
'Certificate AI using Python Guvi (1).jpeg'
'Certificate AI using Python Guvi.jpeg'
'certificate diary writing (1).pdf'
'certificate diary writing.pdf'
'Chitransh_1stop_project_completion_6184[1036]_compressed.pdf'
'Chitransh_Jun_2021_1stop_participation_6184[.pdf'
'Chitransh Madavi 0827CO191016.pptx'
 Chitransh_Madavi_CO-16.gdoc
 CHITRANSH_MADAVI_CO16.gdoc
'Chitransh Madavi cybersecrity.pdf'
'Chitransh_Madavi_Hired_Certificate (1).pdf'
 Chitransh_Madavi_Hired_Certificate.pdf
'Chitransh Madavi-Offer Letter_Tutedude (1).pdf'
'Chitransh Madavi-Offer Letter_Tutedude (2).pdf'
'Chitransh Madavi-Offer Letter_Tutedude.pdf'
'Chitransh Madavi_Tcs_value_added_course.pdf'
 Chitransh_Sep_2021_internship_6184.pdf
 Classroom
'clg id.pdf'
'codechef problem solved.jpg'
'Colab Notebooks'
'Comp workshop CS-306 practical CO16.docx'
'Coursera 9WTUPUYPZSTJ google python.pdf'
'Coursera google python.pdf'
 custom_trainvalacc.png
 custom_trainvalloss.png
 Cybersecurity_Foundation_Student_Certificate.pdf
 Cybersecurity_RAW.gdoc
 Cybersecurity_SEM_6
 dataset.csv
'Energy Literacy Certificate-compressed.pdf'
'Energy Literacy Certificate.pdf'
'Example No-1.gdoc'
'Format of Synopsis.gdoc'
'Getting started.pdf'
'GuviCertification world record.png'
 Hackerrank_python.png
'IBM AI for everyone Certificate _ edX.pdf'
'IBM PYTHON Certificate _ edX.pdf'
 IMG20201013143622.jpg
 IMG20201013143628.jpg
 IWT
'LAB MANUAL FORMAT.gdoc'
 laptops.csv.gsheet
'Linux lab'
'Linux _Lab-CS505 File Format.gdoc'
'Machine Learning'
'MicrosoftCertificate (1).pdf'
'MicrosoftCertificate (2).pdf'
 MicrosoftCertificate.pdf
'Operating System assingment 1.docx'
'OSdesign an algorithm (1).docx'
'OSdesign an algorithm.docx'
 Parent_AFD_2293192_2812202014555362.pdf
'Participation in AWS Cloud Masterclass certificate (1).pdf'
'Participation in AWS Cloud Masterclass certificate.pdf'
'Patentability search report- VAS.docx'
'Patent_VAS .gdoc'
 pheonix.pdf
 planes..pdf
'Pledge Chitransh.gdoc'
 practical1.pdf
 practical2.pdf
'professional photo.jpeg'
'Railways Waiting List Manager - Pie chart 1.gsheet'
'Req. Sources (1).gdoc'
'Req. Sources.gdoc'
 Scales.pdf
 Screenshot_2020-11-07-13-30-34-36_70ac116ce739e36060f211aa22982eed.jpg
'Screenshot_2021-05-17-22-20-10-24_47c69240c6dec28f102c4bfefa4cfe17 (1).jpg'
 Screenshot_2021-05-17-22-20-10-24_47c69240c6dec28f102c4bfefa4cfe17.jpg
'Screenshot_2021-05-19-20-48-04-48_47c69240c6dec28f102c4bfefa4cfe17 (1).jpg'
 Screenshot_2021-05-19-20-48-04-48_47c69240c6dec28f102c4bfefa4cfe17.jpg
'Screenshot_2021-05-21-10-46-39-01_47c69240c6dec28f102c4bfefa4cfe17 (1).jpg'
 Screenshot_2021-05-21-10-46-39-01_47c69240c6dec28f102c4bfefa4cfe17.jpg
 Screenshot_2021-05-29-09-51-50-59.jpg
 Screenshot_2021-07-24-13-40-21-46.jpg
 Screenshot_2021-08-06-12-05-22-41_70ac116ce739e36060f211aa22982eed.jpg
'Screenshot 2021-12-28 152559.png'
 Student_AFD_2293192_2812202014555211.pdf
'Unit 1 - Digital Systems - www.rgpvnotes.in.gdoc'
'Unit - 1.gdoc'
'Unit 2 - Digital Systems - www.rgpvnotes.in.gdoc'
'Unit - 2.gdoc'
'Unit 3 - Digital Systems - www.rgpvnotes.in.gdoc'
'Untitled document.gdoc'
'Untitled form.gform'
 VAS_patent.gdoc
'voiceflow-export-1640685212026 (1).png'
 voiceflow-export-1640685212026.png

3. Read the dataset from CSV file

import pandas as pd
data = pd.read_csv('diabetes.csv')
data.head(10)
---------------------------------------------------------------------------
FileNotFoundError                         Traceback (most recent call last)
<ipython-input-4-38be0a71df49> in <module>()
      1 import pandas as pd
----> 2 data = pd.read_csv('diabetes.csv')
      3 data.head(10)

/usr/local/lib/python3.7/dist-packages/pandas/util/_decorators.py in wrapper(*args, **kwargs)
    309                     stacklevel=stacklevel,
    310                 )
--> 311             return func(*args, **kwargs)
    312 
    313         return wrapper

/usr/local/lib/python3.7/dist-packages/pandas/io/parsers/readers.py in read_csv(filepath_or_buffer, sep, delimiter, header, names, index_col, usecols, squeeze, prefix, mangle_dupe_cols, dtype, engine, converters, true_values, false_values, skipinitialspace, skiprows, skipfooter, nrows, na_values, keep_default_na, na_filter, verbose, skip_blank_lines, parse_dates, infer_datetime_format, keep_date_col, date_parser, dayfirst, cache_dates, iterator, chunksize, compression, thousands, decimal, lineterminator, quotechar, quoting, doublequote, escapechar, comment, encoding, encoding_errors, dialect, error_bad_lines, warn_bad_lines, on_bad_lines, delim_whitespace, low_memory, memory_map, float_precision, storage_options)
    584     kwds.update(kwds_defaults)
    585 
--> 586     return _read(filepath_or_buffer, kwds)
    587 
    588 

/usr/local/lib/python3.7/dist-packages/pandas/io/parsers/readers.py in _read(filepath_or_buffer, kwds)
    480 
    481     # Create the parser.
--> 482     parser = TextFileReader(filepath_or_buffer, **kwds)
    483 
    484     if chunksize or iterator:

/usr/local/lib/python3.7/dist-packages/pandas/io/parsers/readers.py in __init__(self, f, engine, **kwds)
    809             self.options["has_index_names"] = kwds["has_index_names"]
    810 
--> 811         self._engine = self._make_engine(self.engine)
    812 
    813     def close(self):

/usr/local/lib/python3.7/dist-packages/pandas/io/parsers/readers.py in _make_engine(self, engine)
   1038             )
   1039         # error: Too many arguments for "ParserBase"
-> 1040         return mapping[engine](self.f, **self.options)  # type: ignore[call-arg]
   1041 
   1042     def _failover_to_python(self):

/usr/local/lib/python3.7/dist-packages/pandas/io/parsers/c_parser_wrapper.py in __init__(self, src, **kwds)
     49 
     50         # open handles
---> 51         self._open_handles(src, kwds)
     52         assert self.handles is not None
     53 

/usr/local/lib/python3.7/dist-packages/pandas/io/parsers/base_parser.py in _open_handles(self, src, kwds)
    227             memory_map=kwds.get("memory_map", False),
    228             storage_options=kwds.get("storage_options", None),
--> 229             errors=kwds.get("encoding_errors", "strict"),
    230         )
    231 

/usr/local/lib/python3.7/dist-packages/pandas/io/common.py in get_handle(path_or_buf, mode, encoding, compression, memory_map, is_text, errors, storage_options)
    705                 encoding=ioargs.encoding,
    706                 errors=errors,
--> 707                 newline="",
    708             )
    709         else:

FileNotFoundError: [Errno 2] No such file or directory: 'diabetes.csv'
data.columns
Index(['Pregnancies', 'Glucose', 'BloodPressure', 'SkinThickness', 'Insulin',
       'BMI', 'DiabetesPedigreeFunction', 'Age', 'Outcome'],
      dtype='object')
data.values
array([[  6.   , 148.   ,  72.   , ...,   0.627,  50.   ,   1.   ],
       [  1.   ,  85.   ,  66.   , ...,   0.351,  31.   ,   0.   ],
       [  8.   , 183.   ,  64.   , ...,   0.672,  32.   ,   1.   ],
       ...,
       [  5.   , 121.   ,  72.   , ...,   0.245,  30.   ,   0.   ],
       [  1.   , 126.   ,  60.   , ...,   0.349,  47.   ,   1.   ],
       [  1.   ,  93.   ,  70.   , ...,   0.315,  23.   ,   0.   ]])
4. Store the data into input feature and label variables

dataset= data.values
X = dataset[:,0:8]
Y = dataset[:,8]
print(X)
print(Y)
[[  6.    148.     72.    ...  33.6     0.627  50.   ]
 [  1.     85.     66.    ...  26.6     0.351  31.   ]
 [  8.    183.     64.    ...  23.3     0.672  32.   ]
 ...
 [  5.    121.     72.    ...  26.2     0.245  30.   ]
 [  1.    126.     60.    ...  30.1     0.349  47.   ]
 [  1.     93.     70.    ...  30.4     0.315  23.   ]]
[1. 0. 1. 0. 1. 0. 1. 0. 1. 1. 0. 1. 0. 1. 1. 1. 1. 1. 0. 1. 0. 0. 1. 1.
 1. 1. 1. 0. 0. 0. 0. 1. 0. 0. 0. 0. 0. 1. 1. 1. 0. 0. 0. 1. 0. 1. 0. 0.
 1. 0. 0. 0. 0. 1. 0. 0. 1. 0. 0. 0. 0. 1. 0. 0. 1. 0. 1. 0. 0. 0. 1. 0.
 1. 0. 0. 0. 0. 0. 1. 0. 0. 0. 0. 0. 1. 0. 0. 0. 1. 0. 0. 0. 0. 1. 0. 0.
 0. 0. 0. 1. 1. 0. 0. 0. 0. 0. 0. 0. 0. 1. 1. 1. 0. 0. 1. 1. 1. 0. 0. 0.
 1. 0. 0. 0. 1. 1. 0. 0. 1. 1. 1. 1. 1. 0. 0. 0. 0. 0. 0. 0. 0. 0. 0. 1.
 0. 0. 0. 0. 0. 0. 0. 0. 1. 0. 1. 1. 0. 0. 0. 1. 0. 0. 0. 0. 1. 1. 0. 0.
 0. 0. 1. 1. 0. 0. 0. 1. 0. 1. 0. 1. 0. 0. 0. 0. 0. 1. 1. 1. 1. 1. 0. 0.
 1. 1. 0. 1. 0. 1. 1. 1. 0. 0. 0. 0. 0. 0. 1. 1. 0. 1. 0. 0. 0. 1. 1. 1.
 1. 0. 1. 1. 1. 1. 0. 0. 0. 0. 0. 1. 0. 0. 1. 1. 0. 0. 0. 1. 1. 1. 1. 0.
 0. 0. 1. 1. 0. 1. 0. 0. 0. 0. 0. 0. 0. 0. 1. 1. 0. 0. 0. 1. 0. 1. 0. 0.
 1. 0. 1. 0. 0. 1. 1. 0. 0. 0. 0. 0. 1. 0. 0. 0. 1. 0. 0. 1. 1. 0. 0. 1.
 0. 0. 0. 1. 1. 1. 0. 0. 1. 0. 1. 0. 1. 1. 0. 1. 0. 0. 1. 0. 1. 1. 0. 0.
 1. 0. 1. 0. 0. 1. 0. 1. 0. 1. 1. 1. 0. 0. 1. 0. 1. 0. 0. 0. 1. 0. 0. 0.
 0. 1. 1. 1. 0. 0. 0. 0. 0. 0. 0. 0. 0. 1. 0. 0. 0. 0. 0. 1. 1. 1. 0. 1.
 1. 0. 0. 1. 0. 0. 1. 0. 0. 1. 1. 0. 0. 0. 0. 1. 0. 0. 1. 0. 0. 0. 0. 0.
 0. 0. 1. 1. 1. 0. 0. 1. 0. 0. 1. 0. 0. 1. 0. 1. 1. 0. 1. 0. 1. 0. 1. 0.
 1. 1. 0. 0. 0. 0. 1. 1. 0. 1. 0. 1. 0. 0. 0. 0. 1. 1. 0. 1. 0. 1. 0. 0.
 0. 0. 0. 1. 0. 0. 0. 0. 1. 0. 0. 1. 1. 1. 0. 0. 1. 0. 0. 1. 0. 0. 0. 1.
 0. 0. 1. 0. 0. 0. 0. 0. 0. 0. 0. 0. 1. 0. 0. 0. 0. 0. 0. 0. 1. 0. 0. 0.
 1. 0. 0. 0. 1. 1. 0. 0. 0. 0. 0. 0. 0. 1. 0. 0. 0. 0. 1. 0. 0. 0. 1. 0.
 0. 0. 1. 0. 0. 0. 1. 0. 0. 0. 0. 1. 1. 0. 0. 0. 0. 0. 0. 1. 0. 0. 0. 0.
 0. 0. 0. 0. 0. 0. 0. 1. 0. 0. 0. 1. 1. 1. 1. 0. 0. 1. 1. 0. 0. 0. 0. 0.
 0. 0. 0. 0. 0. 0. 0. 0. 1. 1. 0. 0. 0. 0. 0. 0. 0. 1. 0. 0. 0. 0. 0. 0.
 0. 1. 0. 1. 1. 0. 0. 0. 1. 0. 1. 0. 1. 0. 1. 0. 1. 0. 0. 1. 0. 0. 1. 0.
 0. 0. 0. 1. 1. 0. 1. 0. 0. 0. 0. 1. 1. 0. 1. 0. 0. 0. 1. 1. 0. 0. 0. 0.
 0. 0. 0. 0. 0. 0. 1. 0. 0. 0. 0. 1. 0. 0. 1. 0. 0. 0. 1. 0. 0. 0. 1. 1.
 1. 0. 0. 0. 0. 0. 0. 1. 0. 0. 0. 1. 0. 1. 1. 1. 1. 0. 1. 1. 0. 0. 0. 0.
 0. 0. 0. 1. 1. 0. 1. 0. 0. 1. 0. 1. 0. 0. 0. 0. 0. 1. 0. 1. 0. 1. 0. 1.
 1. 0. 0. 0. 0. 1. 1. 0. 0. 0. 1. 0. 1. 1. 0. 0. 1. 0. 0. 1. 1. 0. 0. 1.
 0. 0. 1. 0. 0. 0. 0. 0. 0. 0. 1. 1. 1. 0. 0. 0. 0. 0. 0. 1. 1. 0. 0. 1.
 0. 0. 1. 0. 1. 1. 1. 0. 0. 1. 1. 1. 0. 1. 0. 1. 0. 1. 0. 0. 0. 0. 1. 0.]
5. Data Normalization

from sklearn import preprocessing
min_max_scaler = preprocessing.MinMaxScaler()
X_scale = min_max_scaler.fit_transform(X)
X_scale
array([[0.35294118, 0.74371859, 0.59016393, ..., 0.50074516, 0.23441503,
        0.48333333],
       [0.05882353, 0.42713568, 0.54098361, ..., 0.39642325, 0.11656704,
        0.16666667],
       [0.47058824, 0.91959799, 0.52459016, ..., 0.34724292, 0.25362938,
        0.18333333],
       ...,
       [0.29411765, 0.6080402 , 0.59016393, ..., 0.390462  , 0.07130658,
        0.15      ],
       [0.05882353, 0.63316583, 0.49180328, ..., 0.4485842 , 0.11571307,
        0.43333333],
       [0.05882353, 0.46733668, 0.57377049, ..., 0.45305514, 0.10119556,
        0.03333333]])
6. One-hot vector conversion

from keras.utils import np_utils
encoded_y = np_utils.to_categorical(Y)
encoded_y
array([[0., 1.],
       [1., 0.],
       [0., 1.],
       ...,
       [1., 0.],
       [0., 1.],
       [1., 0.]], dtype=float32)
7. Split the dataset into training, testing and validation set

from sklearn.model_selection import train_test_split
X_training, X_testing, Y_training, Y_testing = train_test_split(X_scale, encoded_y, test_size=0.2, random_state=10)
X_training, X_valid, Y_training, Y_valid = train_test_split(X_training, Y_training, test_size=0.2, random_state=10)
print(len(X_training))
print(len(X_testing))
print(len(X_valid))
491
154
123
8. Model Creation

from keras.models import Sequential
from keras.layers import Dense

# Creating the model
model = Sequential()
model.add(Dense(24, input_shape=(8,), activation='relu'))
model.add(Dense(20, activation='relu'))
model.add(Dense(12, activation='tanh'))
model.add(Dense(8, activation='relu'))
model.add(Dense(2, activation='softmax'))
model.summary()   #gives a summary of the model
Model: "sequential"
_________________________________________________________________
 Layer (type)                Output Shape              Param #   
=================================================================
 dense (Dense)               (None, 24)                216       
                                                                 
 dense_1 (Dense)             (None, 20)                500       
                                                                 
 dense_2 (Dense)             (None, 12)                252       
                                                                 
 dense_3 (Dense)             (None, 8)                 104       
                                                                 
 dense_4 (Dense)             (None, 2)                 18        
                                                                 
=================================================================
Total params: 1,090
Trainable params: 1,090
Non-trainable params: 0
_________________________________________________________________
9. Model Compile

from tensorflow.keras import optimizers
opt=optimizers.SGD(learning_rate=0.01)
model.compile(loss='categorical_crossentropy', optimizer=opt, metrics=['accuracy'])
10. Model Training

if you have 1000 training examples, and your batch size is 500, then it will take 2 iterations to complete 1 epoch.

hist = model.fit(X_training, Y_training,batch_size=4,  epochs=750, validation_data=(X_valid,Y_valid))
Epoch 1/750
123/123 [==============================] - 1s 4ms/step - loss: 0.6664 - accuracy: 0.6293 - val_loss: 0.6605 - val_accuracy: 0.6260
Epoch 2/750
123/123 [==============================] - 0s 2ms/step - loss: 0.6299 - accuracy: 0.6680 - val_loss: 0.6576 - val_accuracy: 0.6260
Epoch 3/750
123/123 [==============================] - 0s 2ms/step - loss: 0.6195 - accuracy: 0.6680 - val_loss: 0.6450 - val_accuracy: 0.6260
Epoch 4/750
123/123 [==============================] - 0s 2ms/step - loss: 0.6092 - accuracy: 0.6680 - val_loss: 0.6405 - val_accuracy: 0.6260
Epoch 5/750
123/123 [==============================] - 0s 2ms/step - loss: 0.5967 - accuracy: 0.6660 - val_loss: 0.6199 - val_accuracy: 0.6504
Epoch 6/750
123/123 [==============================] - 0s 2ms/step - loss: 0.5812 - accuracy: 0.6701 - val_loss: 0.6075 - val_accuracy: 0.6585
Epoch 7/750
123/123 [==============================] - 0s 2ms/step - loss: 0.5623 - accuracy: 0.6965 - val_loss: 0.5941 - val_accuracy: 0.6748
Epoch 8/750
123/123 [==============================] - 0s 2ms/step - loss: 0.5407 - accuracy: 0.7149 - val_loss: 0.5576 - val_accuracy: 0.6829
Epoch 9/750
123/123 [==============================] - 0s 2ms/step - loss: 0.5345 - accuracy: 0.7108 - val_loss: 0.5408 - val_accuracy: 0.7236
Epoch 10/750
123/123 [==============================] - 0s 2ms/step - loss: 0.5175 - accuracy: 0.7373 - val_loss: 0.5372 - val_accuracy: 0.7236
Epoch 11/750
123/123 [==============================] - 0s 2ms/step - loss: 0.5094 - accuracy: 0.7495 - val_loss: 0.5178 - val_accuracy: 0.7154
Epoch 12/750
123/123 [==============================] - 0s 2ms/step - loss: 0.5010 - accuracy: 0.7495 - val_loss: 0.5249 - val_accuracy: 0.7398
Epoch 13/750
123/123 [==============================] - 0s 2ms/step - loss: 0.4983 - accuracy: 0.7617 - val_loss: 0.5163 - val_accuracy: 0.7236
Epoch 14/750
123/123 [==============================] - 0s 2ms/step - loss: 0.4921 - accuracy: 0.7597 - val_loss: 0.4851 - val_accuracy: 0.7398
Epoch 15/750
123/123 [==============================] - 0s 2ms/step - loss: 0.4901 - accuracy: 0.7597 - val_loss: 0.5184 - val_accuracy: 0.7886
Epoch 16/750
123/123 [==============================] - 0s 2ms/step - loss: 0.4776 - accuracy: 0.7658 - val_loss: 0.4804 - val_accuracy: 0.7724
Epoch 17/750
123/123 [==============================] - 0s 2ms/step - loss: 0.4700 - accuracy: 0.7699 - val_loss: 0.4693 - val_accuracy: 0.7642
Epoch 18/750
123/123 [==============================] - 0s 2ms/step - loss: 0.4734 - accuracy: 0.7637 - val_loss: 0.4707 - val_accuracy: 0.7642
Epoch 19/750
123/123 [==============================] - 0s 2ms/step - loss: 0.4833 - accuracy: 0.7576 - val_loss: 0.4854 - val_accuracy: 0.7561
Epoch 20/750
123/123 [==============================] - 0s 3ms/step - loss: 0.4816 - accuracy: 0.7658 - val_loss: 0.4684 - val_accuracy: 0.7642
Epoch 21/750
123/123 [==============================] - 0s 2ms/step - loss: 0.4782 - accuracy: 0.7699 - val_loss: 0.4698 - val_accuracy: 0.7724
Epoch 22/750
123/123 [==============================] - 0s 2ms/step - loss: 0.4758 - accuracy: 0.7576 - val_loss: 0.4687 - val_accuracy: 0.7805
Epoch 23/750
123/123 [==============================] - 0s 2ms/step - loss: 0.4797 - accuracy: 0.7678 - val_loss: 0.4670 - val_accuracy: 0.7642
Epoch 24/750
123/123 [==============================] - 0s 2ms/step - loss: 0.4754 - accuracy: 0.7576 - val_loss: 0.4996 - val_accuracy: 0.7886
Epoch 25/750
123/123 [==============================] - 0s 2ms/step - loss: 0.4761 - accuracy: 0.7556 - val_loss: 0.4700 - val_accuracy: 0.7805
Epoch 26/750
123/123 [==============================] - 0s 2ms/step - loss: 0.4771 - accuracy: 0.7536 - val_loss: 0.4841 - val_accuracy: 0.7642
Epoch 27/750
123/123 [==============================] - 0s 2ms/step - loss: 0.4644 - accuracy: 0.7841 - val_loss: 0.4644 - val_accuracy: 0.7642
Epoch 28/750
123/123 [==============================] - 0s 2ms/step - loss: 0.4698 - accuracy: 0.7658 - val_loss: 0.4810 - val_accuracy: 0.8049
Epoch 29/750
123/123 [==============================] - 0s 2ms/step - loss: 0.4658 - accuracy: 0.7637 - val_loss: 0.4777 - val_accuracy: 0.7724
Epoch 30/750
123/123 [==============================] - 0s 2ms/step - loss: 0.4631 - accuracy: 0.7821 - val_loss: 0.4999 - val_accuracy: 0.7805
Epoch 31/750
123/123 [==============================] - 0s 2ms/step - loss: 0.4679 - accuracy: 0.7658 - val_loss: 0.4883 - val_accuracy: 0.8049
Epoch 32/750
123/123 [==============================] - 0s 2ms/step - loss: 0.4699 - accuracy: 0.7617 - val_loss: 0.4698 - val_accuracy: 0.7886
Epoch 33/750
123/123 [==============================] - 0s 2ms/step - loss: 0.4592 - accuracy: 0.7780 - val_loss: 0.4735 - val_accuracy: 0.7967
Epoch 34/750
123/123 [==============================] - 0s 2ms/step - loss: 0.4714 - accuracy: 0.7719 - val_loss: 0.4733 - val_accuracy: 0.7886
Epoch 35/750
123/123 [==============================] - 0s 2ms/step - loss: 0.4673 - accuracy: 0.7699 - val_loss: 0.4713 - val_accuracy: 0.7480
Epoch 36/750
123/123 [==============================] - 0s 2ms/step - loss: 0.4647 - accuracy: 0.7678 - val_loss: 0.4698 - val_accuracy: 0.7886
Epoch 37/750
123/123 [==============================] - 0s 2ms/step - loss: 0.4608 - accuracy: 0.7637 - val_loss: 0.4628 - val_accuracy: 0.7805
Epoch 38/750
123/123 [==============================] - 0s 2ms/step - loss: 0.4601 - accuracy: 0.7800 - val_loss: 0.4726 - val_accuracy: 0.7561
Epoch 39/750
123/123 [==============================] - 0s 2ms/step - loss: 0.4592 - accuracy: 0.7617 - val_loss: 0.4632 - val_accuracy: 0.7886
Epoch 40/750
123/123 [==============================] - 0s 2ms/step - loss: 0.4578 - accuracy: 0.7699 - val_loss: 0.4688 - val_accuracy: 0.7886
Epoch 41/750
123/123 [==============================] - 0s 2ms/step - loss: 0.4650 - accuracy: 0.7678 - val_loss: 0.4685 - val_accuracy: 0.7805
Epoch 42/750
123/123 [==============================] - 0s 2ms/step - loss: 0.4624 - accuracy: 0.7617 - val_loss: 0.4950 - val_accuracy: 0.7642
Epoch 43/750
123/123 [==============================] - 0s 2ms/step - loss: 0.4644 - accuracy: 0.7576 - val_loss: 0.4655 - val_accuracy: 0.7886
Epoch 44/750
123/123 [==============================] - 0s 2ms/step - loss: 0.4587 - accuracy: 0.7862 - val_loss: 0.4697 - val_accuracy: 0.7724
Epoch 45/750
123/123 [==============================] - 0s 2ms/step - loss: 0.4615 - accuracy: 0.7637 - val_loss: 0.4825 - val_accuracy: 0.7886
Epoch 46/750
123/123 [==============================] - 0s 2ms/step - loss: 0.4585 - accuracy: 0.7617 - val_loss: 0.4769 - val_accuracy: 0.7886
Epoch 47/750
123/123 [==============================] - 0s 2ms/step - loss: 0.4596 - accuracy: 0.7658 - val_loss: 0.4634 - val_accuracy: 0.7886
Epoch 48/750
123/123 [==============================] - 0s 2ms/step - loss: 0.4510 - accuracy: 0.7739 - val_loss: 0.5032 - val_accuracy: 0.7642
Epoch 49/750
123/123 [==============================] - 0s 2ms/step - loss: 0.4585 - accuracy: 0.7760 - val_loss: 0.4853 - val_accuracy: 0.7967
Epoch 50/750
123/123 [==============================] - 0s 2ms/step - loss: 0.4532 - accuracy: 0.7678 - val_loss: 0.4627 - val_accuracy: 0.7967
Epoch 51/750
123/123 [==============================] - 0s 2ms/step - loss: 0.4607 - accuracy: 0.7760 - val_loss: 0.5129 - val_accuracy: 0.7967
Epoch 52/750
123/123 [==============================] - 0s 2ms/step - loss: 0.4513 - accuracy: 0.7760 - val_loss: 0.4891 - val_accuracy: 0.7805
Epoch 53/750
123/123 [==============================] - 0s 2ms/step - loss: 0.4584 - accuracy: 0.7739 - val_loss: 0.4676 - val_accuracy: 0.7886
Epoch 54/750
123/123 [==============================] - 0s 2ms/step - loss: 0.4539 - accuracy: 0.7515 - val_loss: 0.4697 - val_accuracy: 0.7886
Epoch 55/750
123/123 [==============================] - 0s 2ms/step - loss: 0.4535 - accuracy: 0.7739 - val_loss: 0.5061 - val_accuracy: 0.7561
Epoch 56/750
123/123 [==============================] - 0s 2ms/step - loss: 0.4508 - accuracy: 0.7760 - val_loss: 0.4762 - val_accuracy: 0.7886
Epoch 57/750
123/123 [==============================] - 0s 2ms/step - loss: 0.4463 - accuracy: 0.7984 - val_loss: 0.4922 - val_accuracy: 0.7805
Epoch 58/750
123/123 [==============================] - 0s 2ms/step - loss: 0.4549 - accuracy: 0.7678 - val_loss: 0.4637 - val_accuracy: 0.8049
Epoch 59/750
123/123 [==============================] - 0s 2ms/step - loss: 0.4531 - accuracy: 0.7882 - val_loss: 0.4733 - val_accuracy: 0.7805
Epoch 60/750
123/123 [==============================] - 0s 2ms/step - loss: 0.4419 - accuracy: 0.7800 - val_loss: 0.4868 - val_accuracy: 0.7724
Epoch 61/750
123/123 [==============================] - 0s 2ms/step - loss: 0.4502 - accuracy: 0.7760 - val_loss: 0.4652 - val_accuracy: 0.8049
Epoch 62/750
123/123 [==============================] - 0s 2ms/step - loss: 0.4475 - accuracy: 0.7841 - val_loss: 0.4999 - val_accuracy: 0.7886
Epoch 63/750
123/123 [==============================] - 0s 2ms/step - loss: 0.4472 - accuracy: 0.7862 - val_loss: 0.4668 - val_accuracy: 0.7967
Epoch 64/750
123/123 [==============================] - 0s 3ms/step - loss: 0.4446 - accuracy: 0.7739 - val_loss: 0.4785 - val_accuracy: 0.7805
Epoch 65/750
123/123 [==============================] - 0s 2ms/step - loss: 0.4459 - accuracy: 0.7862 - val_loss: 0.4908 - val_accuracy: 0.7886
Epoch 66/750
123/123 [==============================] - 0s 2ms/step - loss: 0.4439 - accuracy: 0.7800 - val_loss: 0.4734 - val_accuracy: 0.7805
Epoch 67/750
123/123 [==============================] - 0s 2ms/step - loss: 0.4494 - accuracy: 0.7739 - val_loss: 0.4723 - val_accuracy: 0.7805
Epoch 68/750
123/123 [==============================] - 0s 2ms/step - loss: 0.4497 - accuracy: 0.7678 - val_loss: 0.4661 - val_accuracy: 0.8130
Epoch 69/750
123/123 [==============================] - 0s 2ms/step - loss: 0.4417 - accuracy: 0.7719 - val_loss: 0.4809 - val_accuracy: 0.7967
Epoch 70/750
123/123 [==============================] - 0s 2ms/step - loss: 0.4432 - accuracy: 0.7739 - val_loss: 0.4748 - val_accuracy: 0.7642
Epoch 71/750
123/123 [==============================] - 0s 2ms/step - loss: 0.4428 - accuracy: 0.7923 - val_loss: 0.4785 - val_accuracy: 0.7805
Epoch 72/750
123/123 [==============================] - 0s 2ms/step - loss: 0.4408 - accuracy: 0.7780 - val_loss: 0.5218 - val_accuracy: 0.7805
Epoch 73/750
123/123 [==============================] - 0s 2ms/step - loss: 0.4420 - accuracy: 0.7923 - val_loss: 0.5032 - val_accuracy: 0.7480
Epoch 74/750
123/123 [==============================] - 0s 2ms/step - loss: 0.4484 - accuracy: 0.7678 - val_loss: 0.5107 - val_accuracy: 0.7886
Epoch 75/750
123/123 [==============================] - 0s 2ms/step - loss: 0.4444 - accuracy: 0.7760 - val_loss: 0.4816 - val_accuracy: 0.7724
Epoch 76/750
123/123 [==============================] - 0s 2ms/step - loss: 0.4449 - accuracy: 0.7637 - val_loss: 0.4930 - val_accuracy: 0.7886
Epoch 77/750
123/123 [==============================] - 0s 2ms/step - loss: 0.4351 - accuracy: 0.8045 - val_loss: 0.4870 - val_accuracy: 0.7967
Epoch 78/750
123/123 [==============================] - 0s 2ms/step - loss: 0.4379 - accuracy: 0.7800 - val_loss: 0.4691 - val_accuracy: 0.8049
Epoch 79/750
123/123 [==============================] - 0s 2ms/step - loss: 0.4408 - accuracy: 0.7800 - val_loss: 0.4663 - val_accuracy: 0.8130
Epoch 80/750
123/123 [==============================] - 0s 2ms/step - loss: 0.4412 - accuracy: 0.7882 - val_loss: 0.4745 - val_accuracy: 0.8130
Epoch 81/750
123/123 [==============================] - 0s 2ms/step - loss: 0.4284 - accuracy: 0.7821 - val_loss: 0.5114 - val_accuracy: 0.7805
Epoch 82/750
123/123 [==============================] - 0s 2ms/step - loss: 0.4400 - accuracy: 0.7821 - val_loss: 0.4836 - val_accuracy: 0.8130
Epoch 83/750
123/123 [==============================] - 0s 2ms/step - loss: 0.4373 - accuracy: 0.7760 - val_loss: 0.4740 - val_accuracy: 0.7886
Epoch 84/750
123/123 [==============================] - 0s 2ms/step - loss: 0.4342 - accuracy: 0.7821 - val_loss: 0.4757 - val_accuracy: 0.7805
Epoch 85/750
123/123 [==============================] - 0s 2ms/step - loss: 0.4340 - accuracy: 0.7882 - val_loss: 0.4661 - val_accuracy: 0.7967
Epoch 86/750
123/123 [==============================] - 0s 2ms/step - loss: 0.4382 - accuracy: 0.7637 - val_loss: 0.5300 - val_accuracy: 0.7642
Epoch 87/750
123/123 [==============================] - 0s 2ms/step - loss: 0.4382 - accuracy: 0.7821 - val_loss: 0.4708 - val_accuracy: 0.7805
Epoch 88/750
123/123 [==============================] - 0s 2ms/step - loss: 0.4326 - accuracy: 0.7923 - val_loss: 0.4671 - val_accuracy: 0.7967
Epoch 89/750
123/123 [==============================] - 0s 2ms/step - loss: 0.4379 - accuracy: 0.7841 - val_loss: 0.4763 - val_accuracy: 0.7642
Epoch 90/750
123/123 [==============================] - 0s 2ms/step - loss: 0.4278 - accuracy: 0.7923 - val_loss: 0.4918 - val_accuracy: 0.7886
Epoch 91/750
123/123 [==============================] - 0s 2ms/step - loss: 0.4282 - accuracy: 0.7943 - val_loss: 0.4960 - val_accuracy: 0.7886
Epoch 92/750
123/123 [==============================] - 0s 2ms/step - loss: 0.4357 - accuracy: 0.7780 - val_loss: 0.5067 - val_accuracy: 0.7642
Epoch 93/750
123/123 [==============================] - 0s 2ms/step - loss: 0.4340 - accuracy: 0.7902 - val_loss: 0.5263 - val_accuracy: 0.7398
Epoch 94/750
123/123 [==============================] - 0s 2ms/step - loss: 0.4360 - accuracy: 0.7658 - val_loss: 0.4879 - val_accuracy: 0.7886
Epoch 95/750
123/123 [==============================] - 0s 2ms/step - loss: 0.4294 - accuracy: 0.7760 - val_loss: 0.4729 - val_accuracy: 0.8049
Epoch 96/750
123/123 [==============================] - 0s 2ms/step - loss: 0.4336 - accuracy: 0.7821 - val_loss: 0.4767 - val_accuracy: 0.7805
Epoch 97/750
123/123 [==============================] - 0s 2ms/step - loss: 0.4320 - accuracy: 0.7963 - val_loss: 0.4784 - val_accuracy: 0.7886
Epoch 98/750
123/123 [==============================] - 0s 2ms/step - loss: 0.4358 - accuracy: 0.7678 - val_loss: 0.4753 - val_accuracy: 0.7805
Epoch 99/750
123/123 [==============================] - 0s 2ms/step - loss: 0.4264 - accuracy: 0.7760 - val_loss: 0.4889 - val_accuracy: 0.7967
Epoch 100/750
123/123 [==============================] - 0s 2ms/step - loss: 0.4246 - accuracy: 0.8126 - val_loss: 0.4656 - val_accuracy: 0.8293
Epoch 101/750
123/123 [==============================] - 0s 2ms/step - loss: 0.4263 - accuracy: 0.7923 - val_loss: 0.4750 - val_accuracy: 0.7805
Epoch 102/750
123/123 [==============================] - 0s 2ms/step - loss: 0.4370 - accuracy: 0.7841 - val_loss: 0.4686 - val_accuracy: 0.8211
Epoch 103/750
123/123 [==============================] - 0s 2ms/step - loss: 0.4226 - accuracy: 0.7963 - val_loss: 0.5035 - val_accuracy: 0.7886
Epoch 104/750
123/123 [==============================] - 0s 2ms/step - loss: 0.4355 - accuracy: 0.7699 - val_loss: 0.4771 - val_accuracy: 0.7967
Epoch 105/750
123/123 [==============================] - 0s 2ms/step - loss: 0.4315 - accuracy: 0.7821 - val_loss: 0.4856 - val_accuracy: 0.7886
Epoch 106/750
123/123 [==============================] - 0s 2ms/step - loss: 0.4185 - accuracy: 0.7963 - val_loss: 0.5721 - val_accuracy: 0.7073
Epoch 107/750
123/123 [==============================] - 0s 2ms/step - loss: 0.4253 - accuracy: 0.7902 - val_loss: 0.4804 - val_accuracy: 0.7805
Epoch 108/750
123/123 [==============================] - 0s 2ms/step - loss: 0.4283 - accuracy: 0.7862 - val_loss: 0.4793 - val_accuracy: 0.7886
Epoch 109/750
123/123 [==============================] - 0s 2ms/step - loss: 0.4139 - accuracy: 0.8045 - val_loss: 0.5008 - val_accuracy: 0.7480
Epoch 110/750
123/123 [==============================] - 0s 2ms/step - loss: 0.4325 - accuracy: 0.7719 - val_loss: 0.4795 - val_accuracy: 0.7967
Epoch 111/750
123/123 [==============================] - 0s 2ms/step - loss: 0.4251 - accuracy: 0.7862 - val_loss: 0.4764 - val_accuracy: 0.7724
Epoch 112/750
123/123 [==============================] - 0s 2ms/step - loss: 0.4334 - accuracy: 0.7862 - val_loss: 0.4921 - val_accuracy: 0.7886
Epoch 113/750
123/123 [==============================] - 0s 2ms/step - loss: 0.4120 - accuracy: 0.7943 - val_loss: 0.4767 - val_accuracy: 0.8211
Epoch 114/750
123/123 [==============================] - 0s 2ms/step - loss: 0.4301 - accuracy: 0.7862 - val_loss: 0.4831 - val_accuracy: 0.8049
Epoch 115/750
123/123 [==============================] - 0s 2ms/step - loss: 0.4196 - accuracy: 0.7902 - val_loss: 0.4993 - val_accuracy: 0.7642
Epoch 116/750
123/123 [==============================] - 0s 2ms/step - loss: 0.4337 - accuracy: 0.7821 - val_loss: 0.4830 - val_accuracy: 0.8211
Epoch 117/750
123/123 [==============================] - 0s 2ms/step - loss: 0.4201 - accuracy: 0.7943 - val_loss: 0.4892 - val_accuracy: 0.7724
Epoch 118/750
123/123 [==============================] - 0s 2ms/step - loss: 0.4267 - accuracy: 0.7984 - val_loss: 0.4801 - val_accuracy: 0.7886
Epoch 119/750
123/123 [==============================] - 0s 2ms/step - loss: 0.4212 - accuracy: 0.7882 - val_loss: 0.5056 - val_accuracy: 0.7642
Epoch 120/750
123/123 [==============================] - 0s 2ms/step - loss: 0.4314 - accuracy: 0.7841 - val_loss: 0.4876 - val_accuracy: 0.7561
Epoch 121/750
123/123 [==============================] - 0s 2ms/step - loss: 0.4210 - accuracy: 0.7882 - val_loss: 0.4793 - val_accuracy: 0.7886
Epoch 122/750
123/123 [==============================] - 0s 2ms/step - loss: 0.4226 - accuracy: 0.7862 - val_loss: 0.4853 - val_accuracy: 0.8130
Epoch 123/750
123/123 [==============================] - 0s 3ms/step - loss: 0.4172 - accuracy: 0.7800 - val_loss: 0.4853 - val_accuracy: 0.7805
Epoch 124/750
123/123 [==============================] - 0s 2ms/step - loss: 0.4225 - accuracy: 0.7963 - val_loss: 0.4964 - val_accuracy: 0.7724
Epoch 125/750
123/123 [==============================] - 0s 2ms/step - loss: 0.4216 - accuracy: 0.7963 - val_loss: 0.4752 - val_accuracy: 0.7967
Epoch 126/750
123/123 [==============================] - 0s 2ms/step - loss: 0.4191 - accuracy: 0.8106 - val_loss: 0.4837 - val_accuracy: 0.7724
Epoch 127/750
123/123 [==============================] - 0s 2ms/step - loss: 0.4224 - accuracy: 0.7821 - val_loss: 0.5113 - val_accuracy: 0.7561
Epoch 128/750
123/123 [==============================] - 0s 2ms/step - loss: 0.4134 - accuracy: 0.8187 - val_loss: 0.4849 - val_accuracy: 0.7886
Epoch 129/750
123/123 [==============================] - 0s 2ms/step - loss: 0.4122 - accuracy: 0.8004 - val_loss: 0.5736 - val_accuracy: 0.7561
Epoch 130/750
123/123 [==============================] - 0s 2ms/step - loss: 0.4259 - accuracy: 0.7923 - val_loss: 0.4808 - val_accuracy: 0.7886
Epoch 131/750
123/123 [==============================] - 0s 2ms/step - loss: 0.4134 - accuracy: 0.7984 - val_loss: 0.4924 - val_accuracy: 0.7886
Epoch 132/750
123/123 [==============================] - 0s 2ms/step - loss: 0.4073 - accuracy: 0.8147 - val_loss: 0.5366 - val_accuracy: 0.7724
Epoch 133/750
123/123 [==============================] - 0s 2ms/step - loss: 0.4152 - accuracy: 0.8024 - val_loss: 0.4915 - val_accuracy: 0.7805
Epoch 134/750
123/123 [==============================] - 0s 3ms/step - loss: 0.4156 - accuracy: 0.7862 - val_loss: 0.4907 - val_accuracy: 0.7805
Epoch 135/750
123/123 [==============================] - 0s 2ms/step - loss: 0.4092 - accuracy: 0.8024 - val_loss: 0.5422 - val_accuracy: 0.7317
Epoch 136/750
123/123 [==============================] - 0s 2ms/step - loss: 0.4153 - accuracy: 0.7984 - val_loss: 0.4853 - val_accuracy: 0.7967
Epoch 137/750
123/123 [==============================] - 0s 2ms/step - loss: 0.4264 - accuracy: 0.7943 - val_loss: 0.4851 - val_accuracy: 0.8130
Epoch 138/750
123/123 [==============================] - 0s 2ms/step - loss: 0.4084 - accuracy: 0.8045 - val_loss: 0.4882 - val_accuracy: 0.7967
Epoch 139/750
123/123 [==============================] - 0s 2ms/step - loss: 0.4217 - accuracy: 0.7800 - val_loss: 0.4938 - val_accuracy: 0.7805
Epoch 140/750
123/123 [==============================] - 0s 2ms/step - loss: 0.4113 - accuracy: 0.8004 - val_loss: 0.5043 - val_accuracy: 0.7724
Epoch 141/750
123/123 [==============================] - 0s 2ms/step - loss: 0.4173 - accuracy: 0.7943 - val_loss: 0.4835 - val_accuracy: 0.8130
Epoch 142/750
123/123 [==============================] - 0s 2ms/step - loss: 0.4110 - accuracy: 0.8045 - val_loss: 0.5241 - val_accuracy: 0.7398
Epoch 143/750
123/123 [==============================] - 0s 2ms/step - loss: 0.4142 - accuracy: 0.8024 - val_loss: 0.5025 - val_accuracy: 0.7642
Epoch 144/750
123/123 [==============================] - 0s 2ms/step - loss: 0.4144 - accuracy: 0.8004 - val_loss: 0.5082 - val_accuracy: 0.7642
Epoch 145/750
123/123 [==============================] - 0s 2ms/step - loss: 0.4128 - accuracy: 0.8106 - val_loss: 0.4779 - val_accuracy: 0.8049
Epoch 146/750
123/123 [==============================] - 0s 2ms/step - loss: 0.4142 - accuracy: 0.7984 - val_loss: 0.4892 - val_accuracy: 0.7805
Epoch 147/750
123/123 [==============================] - 0s 2ms/step - loss: 0.4131 - accuracy: 0.8024 - val_loss: 0.4993 - val_accuracy: 0.7724
Epoch 148/750
123/123 [==============================] - 0s 2ms/step - loss: 0.4111 - accuracy: 0.7984 - val_loss: 0.4773 - val_accuracy: 0.7967
Epoch 149/750
123/123 [==============================] - 0s 2ms/step - loss: 0.4056 - accuracy: 0.8004 - val_loss: 0.5344 - val_accuracy: 0.7480
Epoch 150/750
123/123 [==============================] - 0s 2ms/step - loss: 0.4099 - accuracy: 0.7841 - val_loss: 0.5317 - val_accuracy: 0.7642
Epoch 151/750
123/123 [==============================] - 0s 2ms/step - loss: 0.4122 - accuracy: 0.7963 - val_loss: 0.4987 - val_accuracy: 0.7724
Epoch 152/750
123/123 [==============================] - 0s 2ms/step - loss: 0.4146 - accuracy: 0.8004 - val_loss: 0.5264 - val_accuracy: 0.7480
Epoch 153/750
123/123 [==============================] - 0s 2ms/step - loss: 0.4007 - accuracy: 0.7963 - val_loss: 0.4941 - val_accuracy: 0.7642
Epoch 154/750
123/123 [==============================] - 0s 2ms/step - loss: 0.4108 - accuracy: 0.8065 - val_loss: 0.4878 - val_accuracy: 0.7805
Epoch 155/750
123/123 [==============================] - 0s 2ms/step - loss: 0.4027 - accuracy: 0.8045 - val_loss: 0.4848 - val_accuracy: 0.7886
Epoch 156/750
123/123 [==============================] - 0s 2ms/step - loss: 0.3986 - accuracy: 0.8024 - val_loss: 0.5157 - val_accuracy: 0.7805
Epoch 157/750
123/123 [==============================] - 0s 2ms/step - loss: 0.4110 - accuracy: 0.8147 - val_loss: 0.5338 - val_accuracy: 0.7561
Epoch 158/750
123/123 [==============================] - 0s 2ms/step - loss: 0.4072 - accuracy: 0.8106 - val_loss: 0.5032 - val_accuracy: 0.7642
Epoch 159/750
123/123 [==============================] - 0s 2ms/step - loss: 0.4000 - accuracy: 0.8228 - val_loss: 0.5033 - val_accuracy: 0.7886
Epoch 160/750
123/123 [==============================] - 0s 2ms/step - loss: 0.4083 - accuracy: 0.8106 - val_loss: 0.4927 - val_accuracy: 0.7724
Epoch 161/750
123/123 [==============================] - 0s 2ms/step - loss: 0.4041 - accuracy: 0.7984 - val_loss: 0.4946 - val_accuracy: 0.7805
Epoch 162/750
123/123 [==============================] - 0s 2ms/step - loss: 0.4085 - accuracy: 0.8024 - val_loss: 0.5044 - val_accuracy: 0.7805
Epoch 163/750
123/123 [==============================] - 0s 2ms/step - loss: 0.4077 - accuracy: 0.8147 - val_loss: 0.5168 - val_accuracy: 0.7805
Epoch 164/750
123/123 [==============================] - 0s 3ms/step - loss: 0.4100 - accuracy: 0.8086 - val_loss: 0.4954 - val_accuracy: 0.7886
Epoch 165/750
123/123 [==============================] - 0s 2ms/step - loss: 0.4013 - accuracy: 0.8126 - val_loss: 0.4990 - val_accuracy: 0.7805
Epoch 166/750
123/123 [==============================] - 0s 2ms/step - loss: 0.4082 - accuracy: 0.7963 - val_loss: 0.5244 - val_accuracy: 0.7724
Epoch 167/750
123/123 [==============================] - 0s 2ms/step - loss: 0.4057 - accuracy: 0.8086 - val_loss: 0.5076 - val_accuracy: 0.7642
Epoch 168/750
123/123 [==============================] - 0s 2ms/step - loss: 0.4042 - accuracy: 0.7923 - val_loss: 0.4971 - val_accuracy: 0.7724
Epoch 169/750
123/123 [==============================] - 0s 2ms/step - loss: 0.3902 - accuracy: 0.8289 - val_loss: 0.6302 - val_accuracy: 0.6911
Epoch 170/750
123/123 [==============================] - 0s 2ms/step - loss: 0.4059 - accuracy: 0.8106 - val_loss: 0.5025 - val_accuracy: 0.7724
Epoch 171/750
123/123 [==============================] - 0s 3ms/step - loss: 0.4014 - accuracy: 0.8126 - val_loss: 0.5135 - val_accuracy: 0.7561
Epoch 172/750
123/123 [==============================] - 0s 2ms/step - loss: 0.4065 - accuracy: 0.8024 - val_loss: 0.4899 - val_accuracy: 0.7967
Epoch 173/750
123/123 [==============================] - 0s 2ms/step - loss: 0.4021 - accuracy: 0.7984 - val_loss: 0.5020 - val_accuracy: 0.7724
Epoch 174/750
123/123 [==============================] - 0s 2ms/step - loss: 0.4005 - accuracy: 0.8004 - val_loss: 0.5070 - val_accuracy: 0.7967
Epoch 175/750
123/123 [==============================] - 0s 2ms/step - loss: 0.4033 - accuracy: 0.7923 - val_loss: 0.5289 - val_accuracy: 0.7317
Epoch 176/750
123/123 [==============================] - 0s 2ms/step - loss: 0.3977 - accuracy: 0.8147 - val_loss: 0.5065 - val_accuracy: 0.7642
Epoch 177/750
123/123 [==============================] - 0s 2ms/step - loss: 0.3998 - accuracy: 0.8086 - val_loss: 0.5121 - val_accuracy: 0.7642
Epoch 178/750
123/123 [==============================] - 0s 2ms/step - loss: 0.3943 - accuracy: 0.8147 - val_loss: 0.5755 - val_accuracy: 0.7561
Epoch 179/750
123/123 [==============================] - 0s 2ms/step - loss: 0.3782 - accuracy: 0.8269 - val_loss: 0.5110 - val_accuracy: 0.7805
Epoch 180/750
123/123 [==============================] - 0s 2ms/step - loss: 0.3859 - accuracy: 0.8126 - val_loss: 0.5026 - val_accuracy: 0.7967
Epoch 181/750
123/123 [==============================] - 0s 2ms/step - loss: 0.3992 - accuracy: 0.8106 - val_loss: 0.5018 - val_accuracy: 0.7805
Epoch 182/750
123/123 [==============================] - 0s 2ms/step - loss: 0.3999 - accuracy: 0.8208 - val_loss: 0.5160 - val_accuracy: 0.7805
Epoch 183/750
123/123 [==============================] - 0s 2ms/step - loss: 0.3928 - accuracy: 0.8208 - val_loss: 0.5148 - val_accuracy: 0.7480
Epoch 184/750
123/123 [==============================] - 0s 2ms/step - loss: 0.3921 - accuracy: 0.8208 - val_loss: 0.4860 - val_accuracy: 0.8374
Epoch 185/750
123/123 [==============================] - 0s 2ms/step - loss: 0.3890 - accuracy: 0.8126 - val_loss: 0.5031 - val_accuracy: 0.8049
Epoch 186/750
123/123 [==============================] - 0s 2ms/step - loss: 0.3989 - accuracy: 0.7902 - val_loss: 0.5111 - val_accuracy: 0.7724
Epoch 187/750
123/123 [==============================] - 0s 2ms/step - loss: 0.3889 - accuracy: 0.8004 - val_loss: 0.5127 - val_accuracy: 0.7805
Epoch 188/750
123/123 [==============================] - 0s 2ms/step - loss: 0.3914 - accuracy: 0.8167 - val_loss: 0.5216 - val_accuracy: 0.7724
Epoch 189/750
123/123 [==============================] - 0s 2ms/step - loss: 0.3956 - accuracy: 0.8106 - val_loss: 0.4890 - val_accuracy: 0.8049
Epoch 190/750
123/123 [==============================] - 0s 2ms/step - loss: 0.3988 - accuracy: 0.8106 - val_loss: 0.5034 - val_accuracy: 0.7642
Epoch 191/750
123/123 [==============================] - 0s 2ms/step - loss: 0.3915 - accuracy: 0.8269 - val_loss: 0.5149 - val_accuracy: 0.7561
Epoch 192/750
123/123 [==============================] - 0s 2ms/step - loss: 0.3985 - accuracy: 0.8228 - val_loss: 0.5236 - val_accuracy: 0.7805
Epoch 193/750
123/123 [==============================] - 0s 2ms/step - loss: 0.3927 - accuracy: 0.8147 - val_loss: 0.5076 - val_accuracy: 0.7724
Epoch 194/750
123/123 [==============================] - 0s 2ms/step - loss: 0.3950 - accuracy: 0.8167 - val_loss: 0.5011 - val_accuracy: 0.7642
Epoch 195/750
123/123 [==============================] - 0s 2ms/step - loss: 0.3984 - accuracy: 0.8024 - val_loss: 0.4905 - val_accuracy: 0.8049
Epoch 196/750
123/123 [==============================] - 0s 2ms/step - loss: 0.3873 - accuracy: 0.8167 - val_loss: 0.4999 - val_accuracy: 0.7967
Epoch 197/750
123/123 [==============================] - 0s 2ms/step - loss: 0.3912 - accuracy: 0.8187 - val_loss: 0.5129 - val_accuracy: 0.8049
Epoch 198/750
123/123 [==============================] - 0s 2ms/step - loss: 0.3920 - accuracy: 0.8106 - val_loss: 0.5232 - val_accuracy: 0.7642
Epoch 199/750
123/123 [==============================] - 0s 2ms/step - loss: 0.3949 - accuracy: 0.8187 - val_loss: 0.4994 - val_accuracy: 0.7805
Epoch 200/750
123/123 [==============================] - 0s 3ms/step - loss: 0.3915 - accuracy: 0.8024 - val_loss: 0.5343 - val_accuracy: 0.7642
Epoch 201/750
123/123 [==============================] - 0s 2ms/step - loss: 0.3938 - accuracy: 0.8126 - val_loss: 0.5063 - val_accuracy: 0.7642
Epoch 202/750
123/123 [==============================] - 0s 2ms/step - loss: 0.3848 - accuracy: 0.8167 - val_loss: 0.5098 - val_accuracy: 0.7967
Epoch 203/750
123/123 [==============================] - 0s 2ms/step - loss: 0.3849 - accuracy: 0.8086 - val_loss: 0.5023 - val_accuracy: 0.7805
Epoch 204/750
123/123 [==============================] - 0s 2ms/step - loss: 0.3852 - accuracy: 0.8126 - val_loss: 0.5300 - val_accuracy: 0.7724
Epoch 205/750
123/123 [==============================] - 0s 2ms/step - loss: 0.3878 - accuracy: 0.8269 - val_loss: 0.5002 - val_accuracy: 0.8130
Epoch 206/750
123/123 [==============================] - 0s 2ms/step - loss: 0.3818 - accuracy: 0.8167 - val_loss: 0.5012 - val_accuracy: 0.7967
Epoch 207/750
123/123 [==============================] - 0s 3ms/step - loss: 0.3826 - accuracy: 0.8208 - val_loss: 0.5158 - val_accuracy: 0.7886
Epoch 208/750
123/123 [==============================] - 0s 2ms/step - loss: 0.3823 - accuracy: 0.8228 - val_loss: 0.5335 - val_accuracy: 0.7561
Epoch 209/750
123/123 [==============================] - 0s 2ms/step - loss: 0.3895 - accuracy: 0.8045 - val_loss: 0.5123 - val_accuracy: 0.7805
Epoch 210/750
123/123 [==============================] - 0s 2ms/step - loss: 0.3830 - accuracy: 0.8167 - val_loss: 0.5105 - val_accuracy: 0.7967
Epoch 211/750
123/123 [==============================] - 0s 2ms/step - loss: 0.3916 - accuracy: 0.8086 - val_loss: 0.5261 - val_accuracy: 0.7642
Epoch 212/750
123/123 [==============================] - 0s 2ms/step - loss: 0.3779 - accuracy: 0.8391 - val_loss: 0.5676 - val_accuracy: 0.7480
Epoch 213/750
123/123 [==============================] - 0s 2ms/step - loss: 0.3792 - accuracy: 0.8126 - val_loss: 0.5790 - val_accuracy: 0.7317
Epoch 214/750
123/123 [==============================] - 0s 2ms/step - loss: 0.3736 - accuracy: 0.8147 - val_loss: 0.4992 - val_accuracy: 0.7886
Epoch 215/750
123/123 [==============================] - 0s 2ms/step - loss: 0.3842 - accuracy: 0.8228 - val_loss: 0.5281 - val_accuracy: 0.7724
Epoch 216/750
123/123 [==============================] - 0s 2ms/step - loss: 0.3881 - accuracy: 0.8167 - val_loss: 0.5536 - val_accuracy: 0.7480
Epoch 217/750
123/123 [==============================] - 0s 2ms/step - loss: 0.3818 - accuracy: 0.8187 - val_loss: 0.5257 - val_accuracy: 0.7805
Epoch 218/750
123/123 [==============================] - 0s 2ms/step - loss: 0.3762 - accuracy: 0.8269 - val_loss: 0.5415 - val_accuracy: 0.7642
Epoch 219/750
123/123 [==============================] - 0s 2ms/step - loss: 0.3852 - accuracy: 0.8248 - val_loss: 0.5301 - val_accuracy: 0.7724
Epoch 220/750
123/123 [==============================] - 0s 2ms/step - loss: 0.3877 - accuracy: 0.8289 - val_loss: 0.5232 - val_accuracy: 0.7724
Epoch 221/750
123/123 [==============================] - 0s 2ms/step - loss: 0.3734 - accuracy: 0.8208 - val_loss: 0.5242 - val_accuracy: 0.7642
Epoch 222/750
123/123 [==============================] - 0s 2ms/step - loss: 0.3672 - accuracy: 0.8452 - val_loss: 0.5209 - val_accuracy: 0.7886
Epoch 223/750
123/123 [==============================] - 0s 2ms/step - loss: 0.3788 - accuracy: 0.8310 - val_loss: 0.5407 - val_accuracy: 0.7561
Epoch 224/750
123/123 [==============================] - 0s 3ms/step - loss: 0.3736 - accuracy: 0.8289 - val_loss: 0.5177 - val_accuracy: 0.7642
Epoch 225/750
123/123 [==============================] - 0s 2ms/step - loss: 0.3830 - accuracy: 0.8045 - val_loss: 0.5107 - val_accuracy: 0.7967
Epoch 226/750
123/123 [==============================] - 0s 2ms/step - loss: 0.3809 - accuracy: 0.8228 - val_loss: 0.5512 - val_accuracy: 0.7561
Epoch 227/750
123/123 [==============================] - 0s 2ms/step - loss: 0.3871 - accuracy: 0.8187 - val_loss: 0.5128 - val_accuracy: 0.8130
Epoch 228/750
123/123 [==============================] - 0s 2ms/step - loss: 0.3733 - accuracy: 0.8350 - val_loss: 0.5411 - val_accuracy: 0.7724
Epoch 229/750
123/123 [==============================] - 0s 2ms/step - loss: 0.3822 - accuracy: 0.8228 - val_loss: 0.5443 - val_accuracy: 0.7480
Epoch 230/750
123/123 [==============================] - 0s 2ms/step - loss: 0.3743 - accuracy: 0.8208 - val_loss: 0.5398 - val_accuracy: 0.7724
Epoch 231/750
123/123 [==============================] - 0s 2ms/step - loss: 0.3729 - accuracy: 0.8350 - val_loss: 0.5019 - val_accuracy: 0.8049
Epoch 232/750
123/123 [==============================] - 0s 2ms/step - loss: 0.3784 - accuracy: 0.8228 - val_loss: 0.5124 - val_accuracy: 0.7967
Epoch 233/750
123/123 [==============================] - 0s 2ms/step - loss: 0.3738 - accuracy: 0.8310 - val_loss: 0.5249 - val_accuracy: 0.7642
Epoch 234/750
123/123 [==============================] - 0s 3ms/step - loss: 0.3774 - accuracy: 0.8187 - val_loss: 0.5287 - val_accuracy: 0.7805
Epoch 235/750
123/123 [==============================] - 0s 2ms/step - loss: 0.3759 - accuracy: 0.8350 - val_loss: 0.5193 - val_accuracy: 0.7886
Epoch 236/750
123/123 [==============================] - 0s 2ms/step - loss: 0.3726 - accuracy: 0.8269 - val_loss: 0.5311 - val_accuracy: 0.7805
Epoch 237/750
123/123 [==============================] - 0s 2ms/step - loss: 0.3662 - accuracy: 0.8310 - val_loss: 0.5410 - val_accuracy: 0.7805
Epoch 238/750
123/123 [==============================] - 0s 2ms/step - loss: 0.3763 - accuracy: 0.8228 - val_loss: 0.5701 - val_accuracy: 0.7480
Epoch 239/750
123/123 [==============================] - 0s 2ms/step - loss: 0.3859 - accuracy: 0.8228 - val_loss: 0.5261 - val_accuracy: 0.7886
Epoch 240/750
123/123 [==============================] - 0s 2ms/step - loss: 0.3653 - accuracy: 0.8473 - val_loss: 0.5394 - val_accuracy: 0.7480
Epoch 241/750
123/123 [==============================] - 0s 2ms/step - loss: 0.3742 - accuracy: 0.8330 - val_loss: 0.5144 - val_accuracy: 0.7561
Epoch 242/750
123/123 [==============================] - 0s 2ms/step - loss: 0.3709 - accuracy: 0.8371 - val_loss: 0.5169 - val_accuracy: 0.7886
Epoch 243/750
123/123 [==============================] - 0s 2ms/step - loss: 0.3766 - accuracy: 0.8391 - val_loss: 0.5598 - val_accuracy: 0.7805
Epoch 244/750
123/123 [==============================] - 0s 2ms/step - loss: 0.3747 - accuracy: 0.8310 - val_loss: 0.5116 - val_accuracy: 0.7967
Epoch 245/750
123/123 [==============================] - 0s 2ms/step - loss: 0.3704 - accuracy: 0.8289 - val_loss: 0.5207 - val_accuracy: 0.7805
Epoch 246/750
123/123 [==============================] - 0s 2ms/step - loss: 0.3779 - accuracy: 0.8330 - val_loss: 0.5566 - val_accuracy: 0.7480
Epoch 247/750
123/123 [==============================] - 0s 2ms/step - loss: 0.3717 - accuracy: 0.8269 - val_loss: 0.5444 - val_accuracy: 0.7724
Epoch 248/750
123/123 [==============================] - 0s 2ms/step - loss: 0.3711 - accuracy: 0.8391 - val_loss: 0.5352 - val_accuracy: 0.7561
Epoch 249/750
123/123 [==============================] - 0s 2ms/step - loss: 0.3710 - accuracy: 0.8371 - val_loss: 0.5627 - val_accuracy: 0.7480
Epoch 250/750
123/123 [==============================] - 0s 2ms/step - loss: 0.3740 - accuracy: 0.8350 - val_loss: 0.5259 - val_accuracy: 0.7642
Epoch 251/750
123/123 [==============================] - 0s 2ms/step - loss: 0.3722 - accuracy: 0.8432 - val_loss: 0.5574 - val_accuracy: 0.7724
Epoch 252/750
123/123 [==============================] - 0s 2ms/step - loss: 0.3725 - accuracy: 0.8371 - val_loss: 0.5132 - val_accuracy: 0.7967
Epoch 253/750
123/123 [==============================] - 0s 2ms/step - loss: 0.3667 - accuracy: 0.8330 - val_loss: 0.5730 - val_accuracy: 0.7154
Epoch 254/750
123/123 [==============================] - 0s 2ms/step - loss: 0.3659 - accuracy: 0.8473 - val_loss: 0.5194 - val_accuracy: 0.8049
Epoch 255/750
123/123 [==============================] - 0s 3ms/step - loss: 0.3732 - accuracy: 0.8391 - val_loss: 0.5581 - val_accuracy: 0.7561
Epoch 256/750
123/123 [==============================] - 0s 2ms/step - loss: 0.3686 - accuracy: 0.8391 - val_loss: 0.5249 - val_accuracy: 0.7805
Epoch 257/750
123/123 [==============================] - 0s 3ms/step - loss: 0.3748 - accuracy: 0.8248 - val_loss: 0.5443 - val_accuracy: 0.7724
Epoch 258/750
123/123 [==============================] - 0s 2ms/step - loss: 0.3684 - accuracy: 0.8473 - val_loss: 0.5414 - val_accuracy: 0.7480
Epoch 259/750
123/123 [==============================] - 0s 2ms/step - loss: 0.3726 - accuracy: 0.8208 - val_loss: 0.5588 - val_accuracy: 0.7724
Epoch 260/750
123/123 [==============================] - 0s 2ms/step - loss: 0.3662 - accuracy: 0.8391 - val_loss: 0.5530 - val_accuracy: 0.7724
Epoch 261/750
123/123 [==============================] - 0s 2ms/step - loss: 0.3633 - accuracy: 0.8371 - val_loss: 0.5239 - val_accuracy: 0.7724
Epoch 262/750
123/123 [==============================] - 0s 3ms/step - loss: 0.3678 - accuracy: 0.8248 - val_loss: 0.5501 - val_accuracy: 0.7724
Epoch 263/750
123/123 [==============================] - 0s 2ms/step - loss: 0.3668 - accuracy: 0.8371 - val_loss: 0.5366 - val_accuracy: 0.7642
Epoch 264/750
123/123 [==============================] - 0s 2ms/step - loss: 0.3691 - accuracy: 0.8391 - val_loss: 0.5187 - val_accuracy: 0.7886
Epoch 265/750
123/123 [==============================] - 0s 2ms/step - loss: 0.3633 - accuracy: 0.8432 - val_loss: 0.5059 - val_accuracy: 0.8130
Epoch 266/750
123/123 [==============================] - 0s 2ms/step - loss: 0.3599 - accuracy: 0.8513 - val_loss: 0.5773 - val_accuracy: 0.7480
Epoch 267/750
123/123 [==============================] - 0s 2ms/step - loss: 0.3591 - accuracy: 0.8228 - val_loss: 0.5731 - val_accuracy: 0.7724
Epoch 268/750
123/123 [==============================] - 0s 3ms/step - loss: 0.3726 - accuracy: 0.8289 - val_loss: 0.5142 - val_accuracy: 0.7967
Epoch 269/750
123/123 [==============================] - 0s 2ms/step - loss: 0.3648 - accuracy: 0.8432 - val_loss: 0.6039 - val_accuracy: 0.7236
Epoch 270/750
123/123 [==============================] - 0s 2ms/step - loss: 0.3641 - accuracy: 0.8350 - val_loss: 0.5472 - val_accuracy: 0.7561
Epoch 271/750
123/123 [==============================] - 0s 2ms/step - loss: 0.3558 - accuracy: 0.8452 - val_loss: 0.5617 - val_accuracy: 0.7642
Epoch 272/750
123/123 [==============================] - 0s 3ms/step - loss: 0.3683 - accuracy: 0.8473 - val_loss: 0.5605 - val_accuracy: 0.7398
Epoch 273/750
123/123 [==============================] - 0s 2ms/step - loss: 0.3560 - accuracy: 0.8371 - val_loss: 0.6252 - val_accuracy: 0.7236
Epoch 274/750
123/123 [==============================] - 0s 3ms/step - loss: 0.3627 - accuracy: 0.8289 - val_loss: 0.5281 - val_accuracy: 0.7805
Epoch 275/750
123/123 [==============================] - 0s 2ms/step - loss: 0.3579 - accuracy: 0.8350 - val_loss: 0.5530 - val_accuracy: 0.7480
Epoch 276/750
123/123 [==============================] - 0s 2ms/step - loss: 0.3675 - accuracy: 0.8350 - val_loss: 0.5415 - val_accuracy: 0.7886
Epoch 277/750
123/123 [==============================] - 0s 2ms/step - loss: 0.3686 - accuracy: 0.8289 - val_loss: 0.5298 - val_accuracy: 0.7642
Epoch 278/750
123/123 [==============================] - 0s 2ms/step - loss: 0.3645 - accuracy: 0.8493 - val_loss: 0.5409 - val_accuracy: 0.7805
Epoch 279/750
123/123 [==============================] - 0s 2ms/step - loss: 0.3580 - accuracy: 0.8391 - val_loss: 0.5763 - val_accuracy: 0.7642
Epoch 280/750
123/123 [==============================] - 0s 3ms/step - loss: 0.3673 - accuracy: 0.8391 - val_loss: 0.5323 - val_accuracy: 0.7886
Epoch 281/750
123/123 [==============================] - 0s 2ms/step - loss: 0.3575 - accuracy: 0.8473 - val_loss: 0.5647 - val_accuracy: 0.7073
Epoch 282/750
123/123 [==============================] - 0s 2ms/step - loss: 0.3572 - accuracy: 0.8432 - val_loss: 0.5363 - val_accuracy: 0.7886
Epoch 283/750
123/123 [==============================] - 0s 2ms/step - loss: 0.3676 - accuracy: 0.8310 - val_loss: 0.5406 - val_accuracy: 0.7480
Epoch 284/750
123/123 [==============================] - 0s 3ms/step - loss: 0.3520 - accuracy: 0.8432 - val_loss: 0.5436 - val_accuracy: 0.7724
Epoch 285/750
123/123 [==============================] - 0s 3ms/step - loss: 0.3527 - accuracy: 0.8391 - val_loss: 0.5002 - val_accuracy: 0.8130
Epoch 286/750
123/123 [==============================] - 0s 2ms/step - loss: 0.3503 - accuracy: 0.8371 - val_loss: 0.5840 - val_accuracy: 0.7480
Epoch 287/750
123/123 [==============================] - 0s 3ms/step - loss: 0.3514 - accuracy: 0.8452 - val_loss: 0.5588 - val_accuracy: 0.7642
Epoch 288/750
123/123 [==============================] - 0s 2ms/step - loss: 0.3581 - accuracy: 0.8371 - val_loss: 0.5666 - val_accuracy: 0.7398
Epoch 289/750
123/123 [==============================] - 0s 2ms/step - loss: 0.3501 - accuracy: 0.8432 - val_loss: 0.5663 - val_accuracy: 0.7398
Epoch 290/750
123/123 [==============================] - 0s 2ms/step - loss: 0.3489 - accuracy: 0.8432 - val_loss: 0.6170 - val_accuracy: 0.7154
Epoch 291/750
123/123 [==============================] - 0s 2ms/step - loss: 0.3525 - accuracy: 0.8595 - val_loss: 0.5288 - val_accuracy: 0.8130
Epoch 292/750
123/123 [==============================] - 0s 2ms/step - loss: 0.3594 - accuracy: 0.8513 - val_loss: 0.5553 - val_accuracy: 0.7480
Epoch 293/750
123/123 [==============================] - 0s 2ms/step - loss: 0.3568 - accuracy: 0.8411 - val_loss: 0.5272 - val_accuracy: 0.8130
Epoch 294/750
123/123 [==============================] - 0s 2ms/step - loss: 0.3460 - accuracy: 0.8615 - val_loss: 0.5722 - val_accuracy: 0.7317
Epoch 295/750
123/123 [==============================] - 0s 2ms/step - loss: 0.3504 - accuracy: 0.8452 - val_loss: 0.5863 - val_accuracy: 0.7561
Epoch 296/750
123/123 [==============================] - 0s 3ms/step - loss: 0.3416 - accuracy: 0.8493 - val_loss: 0.6281 - val_accuracy: 0.7154
Epoch 297/750
123/123 [==============================] - 0s 2ms/step - loss: 0.3457 - accuracy: 0.8452 - val_loss: 0.6152 - val_accuracy: 0.7561
Epoch 298/750
123/123 [==============================] - 0s 3ms/step - loss: 0.3472 - accuracy: 0.8554 - val_loss: 0.5636 - val_accuracy: 0.7398
Epoch 299/750
123/123 [==============================] - 0s 2ms/step - loss: 0.3498 - accuracy: 0.8391 - val_loss: 0.5256 - val_accuracy: 0.7967
Epoch 300/750
123/123 [==============================] - 0s 2ms/step - loss: 0.3459 - accuracy: 0.8574 - val_loss: 0.5625 - val_accuracy: 0.7805
Epoch 301/750
123/123 [==============================] - 0s 3ms/step - loss: 0.3508 - accuracy: 0.8554 - val_loss: 0.5482 - val_accuracy: 0.7805
Epoch 302/750
123/123 [==============================] - 0s 3ms/step - loss: 0.3504 - accuracy: 0.8473 - val_loss: 0.5953 - val_accuracy: 0.7480
Epoch 303/750
123/123 [==============================] - 0s 2ms/step - loss: 0.3494 - accuracy: 0.8350 - val_loss: 0.5456 - val_accuracy: 0.7561
Epoch 304/750
123/123 [==============================] - 0s 2ms/step - loss: 0.3503 - accuracy: 0.8635 - val_loss: 0.5893 - val_accuracy: 0.7561
Epoch 305/750
123/123 [==============================] - 0s 3ms/step - loss: 0.3517 - accuracy: 0.8534 - val_loss: 0.5476 - val_accuracy: 0.7724
Epoch 306/750
123/123 [==============================] - 0s 3ms/step - loss: 0.3373 - accuracy: 0.8574 - val_loss: 0.7175 - val_accuracy: 0.6585
Epoch 307/750
123/123 [==============================] - 0s 3ms/step - loss: 0.3602 - accuracy: 0.8350 - val_loss: 0.5374 - val_accuracy: 0.7724
Epoch 308/750
123/123 [==============================] - 0s 2ms/step - loss: 0.3518 - accuracy: 0.8391 - val_loss: 0.5513 - val_accuracy: 0.7967
Epoch 309/750
123/123 [==============================] - 0s 3ms/step - loss: 0.3520 - accuracy: 0.8391 - val_loss: 0.5527 - val_accuracy: 0.7805
Epoch 310/750
123/123 [==============================] - 0s 2ms/step - loss: 0.3585 - accuracy: 0.8432 - val_loss: 0.5407 - val_accuracy: 0.7805
Epoch 311/750
123/123 [==============================] - 0s 2ms/step - loss: 0.3481 - accuracy: 0.8432 - val_loss: 0.5597 - val_accuracy: 0.7724
Epoch 312/750
123/123 [==============================] - 0s 2ms/step - loss: 0.3425 - accuracy: 0.8513 - val_loss: 0.5884 - val_accuracy: 0.7642
Epoch 313/750
123/123 [==============================] - 0s 2ms/step - loss: 0.3441 - accuracy: 0.8473 - val_loss: 0.5977 - val_accuracy: 0.7480
Epoch 314/750
123/123 [==============================] - 0s 3ms/step - loss: 0.3424 - accuracy: 0.8411 - val_loss: 0.5519 - val_accuracy: 0.7724
Epoch 315/750
123/123 [==============================] - 0s 3ms/step - loss: 0.3420 - accuracy: 0.8513 - val_loss: 0.5549 - val_accuracy: 0.7642
Epoch 316/750
123/123 [==============================] - 0s 2ms/step - loss: 0.3467 - accuracy: 0.8493 - val_loss: 0.5071 - val_accuracy: 0.7967
Epoch 317/750
123/123 [==============================] - 0s 2ms/step - loss: 0.3425 - accuracy: 0.8513 - val_loss: 0.5717 - val_accuracy: 0.7886
Epoch 318/750
123/123 [==============================] - 0s 2ms/step - loss: 0.3372 - accuracy: 0.8717 - val_loss: 0.5131 - val_accuracy: 0.8211
Epoch 319/750
123/123 [==============================] - 0s 2ms/step - loss: 0.3474 - accuracy: 0.8391 - val_loss: 0.6598 - val_accuracy: 0.7317
Epoch 320/750
123/123 [==============================] - 0s 3ms/step - loss: 0.3416 - accuracy: 0.8452 - val_loss: 0.5578 - val_accuracy: 0.7805
Epoch 321/750
123/123 [==============================] - 0s 2ms/step - loss: 0.3356 - accuracy: 0.8534 - val_loss: 0.5681 - val_accuracy: 0.7480
Epoch 322/750
123/123 [==============================] - 0s 2ms/step - loss: 0.3403 - accuracy: 0.8534 - val_loss: 0.5493 - val_accuracy: 0.7724
Epoch 323/750
123/123 [==============================] - 0s 2ms/step - loss: 0.3443 - accuracy: 0.8493 - val_loss: 0.5862 - val_accuracy: 0.7642
Epoch 324/750
123/123 [==============================] - 0s 2ms/step - loss: 0.3312 - accuracy: 0.8452 - val_loss: 0.6145 - val_accuracy: 0.7561
Epoch 325/750
123/123 [==============================] - 0s 3ms/step - loss: 0.3347 - accuracy: 0.8676 - val_loss: 0.6110 - val_accuracy: 0.7398
Epoch 326/750
123/123 [==============================] - 0s 3ms/step - loss: 0.3227 - accuracy: 0.8615 - val_loss: 0.5715 - val_accuracy: 0.7154
Epoch 327/750
123/123 [==============================] - 0s 2ms/step - loss: 0.3497 - accuracy: 0.8513 - val_loss: 0.6174 - val_accuracy: 0.7398
Epoch 328/750
123/123 [==============================] - 0s 2ms/step - loss: 0.3369 - accuracy: 0.8635 - val_loss: 0.6080 - val_accuracy: 0.7398
Epoch 329/750
123/123 [==============================] - 0s 3ms/step - loss: 0.3431 - accuracy: 0.8473 - val_loss: 0.6046 - val_accuracy: 0.7480
Epoch 330/750
123/123 [==============================] - 0s 2ms/step - loss: 0.3419 - accuracy: 0.8493 - val_loss: 0.5402 - val_accuracy: 0.7724
Epoch 331/750
123/123 [==============================] - 0s 3ms/step - loss: 0.3537 - accuracy: 0.8635 - val_loss: 0.5416 - val_accuracy: 0.7724
Epoch 332/750
123/123 [==============================] - 0s 2ms/step - loss: 0.3309 - accuracy: 0.8574 - val_loss: 0.5782 - val_accuracy: 0.7398
Epoch 333/750
123/123 [==============================] - 0s 3ms/step - loss: 0.3352 - accuracy: 0.8432 - val_loss: 0.5593 - val_accuracy: 0.7561
Epoch 334/750
123/123 [==============================] - 0s 2ms/step - loss: 0.3400 - accuracy: 0.8513 - val_loss: 0.5549 - val_accuracy: 0.7886
Epoch 335/750
123/123 [==============================] - 0s 2ms/step - loss: 0.3356 - accuracy: 0.8635 - val_loss: 0.5467 - val_accuracy: 0.7724
Epoch 336/750
123/123 [==============================] - 0s 2ms/step - loss: 0.3331 - accuracy: 0.8595 - val_loss: 0.5760 - val_accuracy: 0.7480
Epoch 337/750
123/123 [==============================] - 0s 3ms/step - loss: 0.3375 - accuracy: 0.8534 - val_loss: 0.5728 - val_accuracy: 0.7317
Epoch 338/750
123/123 [==============================] - 0s 2ms/step - loss: 0.3429 - accuracy: 0.8371 - val_loss: 0.5604 - val_accuracy: 0.7642
Epoch 339/750
123/123 [==============================] - 0s 2ms/step - loss: 0.3448 - accuracy: 0.8473 - val_loss: 0.5865 - val_accuracy: 0.7561
Epoch 340/750
123/123 [==============================] - 0s 2ms/step - loss: 0.3422 - accuracy: 0.8289 - val_loss: 0.5398 - val_accuracy: 0.7480
Epoch 341/750
123/123 [==============================] - 0s 3ms/step - loss: 0.3415 - accuracy: 0.8411 - val_loss: 0.6017 - val_accuracy: 0.7398
Epoch 342/750
123/123 [==============================] - 0s 2ms/step - loss: 0.3503 - accuracy: 0.8452 - val_loss: 0.5691 - val_accuracy: 0.7642
Epoch 343/750
123/123 [==============================] - 0s 2ms/step - loss: 0.3425 - accuracy: 0.8574 - val_loss: 0.5339 - val_accuracy: 0.7398
Epoch 344/750
123/123 [==============================] - 0s 3ms/step - loss: 0.3361 - accuracy: 0.8513 - val_loss: 0.5379 - val_accuracy: 0.7886
Epoch 345/750
123/123 [==============================] - 0s 3ms/step - loss: 0.3381 - accuracy: 0.8513 - val_loss: 0.5585 - val_accuracy: 0.7724
Epoch 346/750
123/123 [==============================] - 0s 2ms/step - loss: 0.3362 - accuracy: 0.8656 - val_loss: 0.5684 - val_accuracy: 0.7561
Epoch 347/750
123/123 [==============================] - 0s 2ms/step - loss: 0.3362 - accuracy: 0.8534 - val_loss: 0.5624 - val_accuracy: 0.7805
Epoch 348/750
123/123 [==============================] - 0s 3ms/step - loss: 0.3396 - accuracy: 0.8554 - val_loss: 0.5725 - val_accuracy: 0.7480
Epoch 349/750
123/123 [==============================] - 0s 3ms/step - loss: 0.3353 - accuracy: 0.8615 - val_loss: 0.5498 - val_accuracy: 0.7805
Epoch 350/750
123/123 [==============================] - 0s 3ms/step - loss: 0.3346 - accuracy: 0.8452 - val_loss: 0.5499 - val_accuracy: 0.7642
Epoch 351/750
123/123 [==============================] - 0s 2ms/step - loss: 0.3494 - accuracy: 0.8493 - val_loss: 0.5866 - val_accuracy: 0.7317
Epoch 352/750
123/123 [==============================] - 0s 2ms/step - loss: 0.3315 - accuracy: 0.8432 - val_loss: 0.5776 - val_accuracy: 0.7480
Epoch 353/750
123/123 [==============================] - 0s 2ms/step - loss: 0.3325 - accuracy: 0.8534 - val_loss: 0.5201 - val_accuracy: 0.7967
Epoch 354/750
123/123 [==============================] - 0s 2ms/step - loss: 0.3259 - accuracy: 0.8411 - val_loss: 0.5663 - val_accuracy: 0.7398
Epoch 355/750
123/123 [==============================] - 0s 2ms/step - loss: 0.3377 - accuracy: 0.8473 - val_loss: 0.5668 - val_accuracy: 0.7642
Epoch 356/750
123/123 [==============================] - 0s 3ms/step - loss: 0.3340 - accuracy: 0.8615 - val_loss: 0.6859 - val_accuracy: 0.7154
Epoch 357/750
123/123 [==============================] - 0s 2ms/step - loss: 0.3482 - accuracy: 0.8391 - val_loss: 0.5608 - val_accuracy: 0.7642
Epoch 358/750
123/123 [==============================] - 0s 2ms/step - loss: 0.3261 - accuracy: 0.8656 - val_loss: 0.5867 - val_accuracy: 0.7561
Epoch 359/750
123/123 [==============================] - 0s 2ms/step - loss: 0.3244 - accuracy: 0.8513 - val_loss: 0.5708 - val_accuracy: 0.7317
Epoch 360/750
123/123 [==============================] - 0s 3ms/step - loss: 0.3438 - accuracy: 0.8513 - val_loss: 0.5622 - val_accuracy: 0.7480
Epoch 361/750
123/123 [==============================] - 0s 3ms/step - loss: 0.3178 - accuracy: 0.8554 - val_loss: 0.5224 - val_accuracy: 0.7886
Epoch 362/750
123/123 [==============================] - 0s 2ms/step - loss: 0.3341 - accuracy: 0.8534 - val_loss: 0.5648 - val_accuracy: 0.7642
Epoch 363/750
123/123 [==============================] - 0s 2ms/step - loss: 0.3337 - accuracy: 0.8350 - val_loss: 0.5399 - val_accuracy: 0.8049
Epoch 364/750
123/123 [==============================] - 0s 3ms/step - loss: 0.3156 - accuracy: 0.8635 - val_loss: 0.5476 - val_accuracy: 0.7398
Epoch 365/750
123/123 [==============================] - 0s 3ms/step - loss: 0.3206 - accuracy: 0.8513 - val_loss: 0.5499 - val_accuracy: 0.7886
Epoch 366/750
123/123 [==============================] - 0s 2ms/step - loss: 0.3268 - accuracy: 0.8595 - val_loss: 0.6109 - val_accuracy: 0.7480
Epoch 367/750
123/123 [==============================] - 0s 2ms/step - loss: 0.3240 - accuracy: 0.8574 - val_loss: 0.8173 - val_accuracy: 0.7073
Epoch 368/750
123/123 [==============================] - 0s 2ms/step - loss: 0.3295 - accuracy: 0.8615 - val_loss: 0.5804 - val_accuracy: 0.7154
Epoch 369/750
123/123 [==============================] - 0s 2ms/step - loss: 0.3125 - accuracy: 0.8758 - val_loss: 0.5244 - val_accuracy: 0.7886
Epoch 370/750
123/123 [==============================] - 0s 2ms/step - loss: 0.3244 - accuracy: 0.8574 - val_loss: 0.6372 - val_accuracy: 0.7236
Epoch 371/750
123/123 [==============================] - 0s 3ms/step - loss: 0.3202 - accuracy: 0.8635 - val_loss: 0.5346 - val_accuracy: 0.7642
Epoch 372/750
123/123 [==============================] - 0s 3ms/step - loss: 0.3205 - accuracy: 0.8697 - val_loss: 0.5769 - val_accuracy: 0.7317
Epoch 373/750
123/123 [==============================] - 0s 2ms/step - loss: 0.3125 - accuracy: 0.8615 - val_loss: 0.6867 - val_accuracy: 0.7480
Epoch 374/750
123/123 [==============================] - 0s 3ms/step - loss: 0.3282 - accuracy: 0.8411 - val_loss: 0.6390 - val_accuracy: 0.7317
Epoch 375/750
123/123 [==============================] - 0s 3ms/step - loss: 0.3165 - accuracy: 0.8615 - val_loss: 0.6081 - val_accuracy: 0.7236
Epoch 376/750
123/123 [==============================] - 0s 2ms/step - loss: 0.3321 - accuracy: 0.8574 - val_loss: 0.6255 - val_accuracy: 0.7317
Epoch 377/750
123/123 [==============================] - 0s 3ms/step - loss: 0.3252 - accuracy: 0.8595 - val_loss: 0.6596 - val_accuracy: 0.7317
Epoch 378/750
123/123 [==============================] - 0s 2ms/step - loss: 0.3295 - accuracy: 0.8595 - val_loss: 0.5320 - val_accuracy: 0.7561
Epoch 379/750
123/123 [==============================] - 0s 2ms/step - loss: 0.3188 - accuracy: 0.8493 - val_loss: 0.5575 - val_accuracy: 0.7561
Epoch 380/750
123/123 [==============================] - 0s 3ms/step - loss: 0.3122 - accuracy: 0.8615 - val_loss: 0.6012 - val_accuracy: 0.7398
Epoch 381/750
123/123 [==============================] - 0s 3ms/step - loss: 0.3359 - accuracy: 0.8534 - val_loss: 0.5954 - val_accuracy: 0.7561
Epoch 382/750
123/123 [==============================] - 0s 2ms/step - loss: 0.3280 - accuracy: 0.8676 - val_loss: 0.5894 - val_accuracy: 0.7642
Epoch 383/750
123/123 [==============================] - 0s 2ms/step - loss: 0.3139 - accuracy: 0.8635 - val_loss: 0.5922 - val_accuracy: 0.7480
Epoch 384/750
123/123 [==============================] - 0s 3ms/step - loss: 0.3225 - accuracy: 0.8554 - val_loss: 0.5731 - val_accuracy: 0.7561
Epoch 385/750
123/123 [==============================] - 0s 2ms/step - loss: 0.3128 - accuracy: 0.8493 - val_loss: 0.6326 - val_accuracy: 0.7154
Epoch 386/750
123/123 [==============================] - 0s 2ms/step - loss: 0.3217 - accuracy: 0.8656 - val_loss: 0.5856 - val_accuracy: 0.7805
Epoch 387/750
123/123 [==============================] - 0s 2ms/step - loss: 0.3209 - accuracy: 0.8534 - val_loss: 0.5727 - val_accuracy: 0.7561
Epoch 388/750
123/123 [==============================] - 0s 2ms/step - loss: 0.3162 - accuracy: 0.8676 - val_loss: 0.5531 - val_accuracy: 0.7886
Epoch 389/750
123/123 [==============================] - 0s 3ms/step - loss: 0.3138 - accuracy: 0.8635 - val_loss: 0.5921 - val_accuracy: 0.7398
Epoch 390/750
123/123 [==============================] - 0s 3ms/step - loss: 0.3104 - accuracy: 0.8554 - val_loss: 0.5548 - val_accuracy: 0.7642
Epoch 391/750
123/123 [==============================] - 0s 2ms/step - loss: 0.3102 - accuracy: 0.8656 - val_loss: 0.5560 - val_accuracy: 0.7642
Epoch 392/750
123/123 [==============================] - 0s 2ms/step - loss: 0.3066 - accuracy: 0.8595 - val_loss: 0.6460 - val_accuracy: 0.7480
Epoch 393/750
123/123 [==============================] - 0s 2ms/step - loss: 0.3173 - accuracy: 0.8595 - val_loss: 0.6501 - val_accuracy: 0.7236
Epoch 394/750
123/123 [==============================] - 0s 2ms/step - loss: 0.3144 - accuracy: 0.8839 - val_loss: 0.6082 - val_accuracy: 0.7561
Epoch 395/750
123/123 [==============================] - 0s 2ms/step - loss: 0.3173 - accuracy: 0.8574 - val_loss: 0.6083 - val_accuracy: 0.7561
Epoch 396/750
123/123 [==============================] - 0s 3ms/step - loss: 0.3141 - accuracy: 0.8432 - val_loss: 0.5792 - val_accuracy: 0.7642
Epoch 397/750
123/123 [==============================] - 0s 2ms/step - loss: 0.3033 - accuracy: 0.8615 - val_loss: 0.6058 - val_accuracy: 0.7236
Epoch 398/750
123/123 [==============================] - 0s 2ms/step - loss: 0.3123 - accuracy: 0.8635 - val_loss: 0.6463 - val_accuracy: 0.7317
Epoch 399/750
123/123 [==============================] - 0s 3ms/step - loss: 0.3162 - accuracy: 0.8595 - val_loss: 0.5691 - val_accuracy: 0.7480
Epoch 400/750
123/123 [==============================] - 0s 2ms/step - loss: 0.3090 - accuracy: 0.8717 - val_loss: 0.6456 - val_accuracy: 0.7398
Epoch 401/750
123/123 [==============================] - 0s 2ms/step - loss: 0.3064 - accuracy: 0.8554 - val_loss: 0.7145 - val_accuracy: 0.6992
Epoch 402/750
123/123 [==============================] - 0s 2ms/step - loss: 0.3029 - accuracy: 0.8819 - val_loss: 0.6392 - val_accuracy: 0.7317
Epoch 403/750
123/123 [==============================] - 0s 3ms/step - loss: 0.3154 - accuracy: 0.8615 - val_loss: 0.6827 - val_accuracy: 0.7236
Epoch 404/750
123/123 [==============================] - 0s 2ms/step - loss: 0.3100 - accuracy: 0.8798 - val_loss: 0.6424 - val_accuracy: 0.7317
Epoch 405/750
123/123 [==============================] - 0s 2ms/step - loss: 0.3072 - accuracy: 0.8656 - val_loss: 0.5683 - val_accuracy: 0.7724
Epoch 406/750
123/123 [==============================] - 0s 2ms/step - loss: 0.3068 - accuracy: 0.8717 - val_loss: 0.5939 - val_accuracy: 0.7724
Epoch 407/750
123/123 [==============================] - 0s 2ms/step - loss: 0.3147 - accuracy: 0.8778 - val_loss: 0.6429 - val_accuracy: 0.7236
Epoch 408/750
123/123 [==============================] - 0s 2ms/step - loss: 0.3269 - accuracy: 0.8554 - val_loss: 0.6156 - val_accuracy: 0.7398
Epoch 409/750
123/123 [==============================] - 0s 2ms/step - loss: 0.3145 - accuracy: 0.8615 - val_loss: 0.5705 - val_accuracy: 0.7724
Epoch 410/750
123/123 [==============================] - 0s 3ms/step - loss: 0.3010 - accuracy: 0.8656 - val_loss: 0.5869 - val_accuracy: 0.7561
Epoch 411/750
123/123 [==============================] - 0s 2ms/step - loss: 0.3107 - accuracy: 0.8758 - val_loss: 0.5635 - val_accuracy: 0.7561
Epoch 412/750
123/123 [==============================] - 0s 2ms/step - loss: 0.3011 - accuracy: 0.8717 - val_loss: 0.6121 - val_accuracy: 0.7642
Epoch 413/750
123/123 [==============================] - 0s 3ms/step - loss: 0.3183 - accuracy: 0.8656 - val_loss: 0.6874 - val_accuracy: 0.7236
Epoch 414/750
123/123 [==============================] - 0s 3ms/step - loss: 0.2972 - accuracy: 0.8778 - val_loss: 0.5926 - val_accuracy: 0.7561
Epoch 415/750
123/123 [==============================] - 0s 3ms/step - loss: 0.2974 - accuracy: 0.8737 - val_loss: 0.6865 - val_accuracy: 0.7398
Epoch 416/750
123/123 [==============================] - 0s 3ms/step - loss: 0.3100 - accuracy: 0.8615 - val_loss: 0.5270 - val_accuracy: 0.7805
Epoch 417/750
123/123 [==============================] - 0s 3ms/step - loss: 0.3157 - accuracy: 0.8595 - val_loss: 0.6027 - val_accuracy: 0.7642
Epoch 418/750
123/123 [==============================] - 0s 3ms/step - loss: 0.3206 - accuracy: 0.8554 - val_loss: 0.6211 - val_accuracy: 0.7561
Epoch 419/750
123/123 [==============================] - 0s 3ms/step - loss: 0.2962 - accuracy: 0.8758 - val_loss: 0.6563 - val_accuracy: 0.7480
Epoch 420/750
123/123 [==============================] - 0s 2ms/step - loss: 0.3020 - accuracy: 0.8595 - val_loss: 0.6062 - val_accuracy: 0.7317
Epoch 421/750
123/123 [==============================] - 0s 3ms/step - loss: 0.3082 - accuracy: 0.8819 - val_loss: 0.5854 - val_accuracy: 0.7398
Epoch 422/750
123/123 [==============================] - 0s 2ms/step - loss: 0.3024 - accuracy: 0.8615 - val_loss: 0.6177 - val_accuracy: 0.7561
Epoch 423/750
123/123 [==============================] - 0s 3ms/step - loss: 0.2888 - accuracy: 0.8635 - val_loss: 0.6784 - val_accuracy: 0.7317
Epoch 424/750
123/123 [==============================] - 0s 2ms/step - loss: 0.2997 - accuracy: 0.8697 - val_loss: 0.6187 - val_accuracy: 0.7642
Epoch 425/750
123/123 [==============================] - 0s 2ms/step - loss: 0.2928 - accuracy: 0.8859 - val_loss: 0.5642 - val_accuracy: 0.7642
Epoch 426/750
123/123 [==============================] - 0s 2ms/step - loss: 0.3059 - accuracy: 0.8697 - val_loss: 0.6787 - val_accuracy: 0.7561
Epoch 427/750
123/123 [==============================] - 0s 2ms/step - loss: 0.3014 - accuracy: 0.8615 - val_loss: 0.6819 - val_accuracy: 0.7236
Epoch 428/750
123/123 [==============================] - 0s 2ms/step - loss: 0.2951 - accuracy: 0.8554 - val_loss: 0.6507 - val_accuracy: 0.7317
Epoch 429/750
123/123 [==============================] - 0s 2ms/step - loss: 0.3012 - accuracy: 0.8717 - val_loss: 0.6558 - val_accuracy: 0.7154
Epoch 430/750
123/123 [==============================] - 0s 2ms/step - loss: 0.3024 - accuracy: 0.8758 - val_loss: 0.6160 - val_accuracy: 0.7561
Epoch 431/750
123/123 [==============================] - 0s 3ms/step - loss: 0.2886 - accuracy: 0.8635 - val_loss: 0.6842 - val_accuracy: 0.7317
Epoch 432/750
123/123 [==============================] - 0s 3ms/step - loss: 0.2992 - accuracy: 0.8656 - val_loss: 0.6091 - val_accuracy: 0.7561
Epoch 433/750
123/123 [==============================] - 0s 3ms/step - loss: 0.2974 - accuracy: 0.8697 - val_loss: 0.6433 - val_accuracy: 0.7561
Epoch 434/750
123/123 [==============================] - 0s 2ms/step - loss: 0.2877 - accuracy: 0.8819 - val_loss: 0.6436 - val_accuracy: 0.7398
Epoch 435/750
123/123 [==============================] - 0s 2ms/step - loss: 0.3063 - accuracy: 0.8778 - val_loss: 0.5800 - val_accuracy: 0.7561
Epoch 436/750
123/123 [==============================] - 0s 3ms/step - loss: 0.3067 - accuracy: 0.8656 - val_loss: 0.6251 - val_accuracy: 0.7398
Epoch 437/750
123/123 [==============================] - 0s 3ms/step - loss: 0.2894 - accuracy: 0.8676 - val_loss: 0.5944 - val_accuracy: 0.7642
Epoch 438/750
123/123 [==============================] - 0s 2ms/step - loss: 0.3002 - accuracy: 0.8676 - val_loss: 0.6363 - val_accuracy: 0.7480
Epoch 439/750
123/123 [==============================] - 0s 3ms/step - loss: 0.3051 - accuracy: 0.8635 - val_loss: 0.6545 - val_accuracy: 0.7398
Epoch 440/750
123/123 [==============================] - 0s 2ms/step - loss: 0.3000 - accuracy: 0.8656 - val_loss: 0.6993 - val_accuracy: 0.7317
Epoch 441/750
123/123 [==============================] - 0s 3ms/step - loss: 0.2974 - accuracy: 0.8656 - val_loss: 0.5949 - val_accuracy: 0.7480
Epoch 442/750
123/123 [==============================] - 0s 3ms/step - loss: 0.2872 - accuracy: 0.8758 - val_loss: 0.5757 - val_accuracy: 0.7805
Epoch 443/750
123/123 [==============================] - 0s 2ms/step - loss: 0.2896 - accuracy: 0.8737 - val_loss: 0.6986 - val_accuracy: 0.7724
Epoch 444/750
123/123 [==============================] - 0s 2ms/step - loss: 0.2856 - accuracy: 0.8697 - val_loss: 0.6147 - val_accuracy: 0.7642
Epoch 445/750
123/123 [==============================] - 0s 2ms/step - loss: 0.2866 - accuracy: 0.8737 - val_loss: 0.6403 - val_accuracy: 0.7317
Epoch 446/750
123/123 [==============================] - 0s 2ms/step - loss: 0.2836 - accuracy: 0.8839 - val_loss: 0.6818 - val_accuracy: 0.7236
Epoch 447/750
123/123 [==============================] - 0s 3ms/step - loss: 0.2899 - accuracy: 0.8697 - val_loss: 0.6477 - val_accuracy: 0.7398
Epoch 448/750
123/123 [==============================] - 0s 3ms/step - loss: 0.3079 - accuracy: 0.8737 - val_loss: 0.6150 - val_accuracy: 0.7642
Epoch 449/750
123/123 [==============================] - 0s 2ms/step - loss: 0.3017 - accuracy: 0.8676 - val_loss: 0.6028 - val_accuracy: 0.7724
Epoch 450/750
123/123 [==============================] - 0s 3ms/step - loss: 0.2822 - accuracy: 0.8778 - val_loss: 0.6653 - val_accuracy: 0.7317
Epoch 451/750
123/123 [==============================] - 0s 2ms/step - loss: 0.2872 - accuracy: 0.8717 - val_loss: 0.7493 - val_accuracy: 0.7236
Epoch 452/750
123/123 [==============================] - 0s 3ms/step - loss: 0.2808 - accuracy: 0.8941 - val_loss: 0.6941 - val_accuracy: 0.7317
Epoch 453/750
123/123 [==============================] - 0s 2ms/step - loss: 0.2993 - accuracy: 0.8615 - val_loss: 0.6781 - val_accuracy: 0.7154
Epoch 454/750
123/123 [==============================] - 0s 2ms/step - loss: 0.2941 - accuracy: 0.8615 - val_loss: 0.7506 - val_accuracy: 0.7154
Epoch 455/750
123/123 [==============================] - 0s 3ms/step - loss: 0.2753 - accuracy: 0.8819 - val_loss: 0.7039 - val_accuracy: 0.7154
Epoch 456/750
123/123 [==============================] - 0s 3ms/step - loss: 0.2838 - accuracy: 0.8921 - val_loss: 0.6898 - val_accuracy: 0.7398
Epoch 457/750
123/123 [==============================] - 0s 2ms/step - loss: 0.2913 - accuracy: 0.8697 - val_loss: 0.6289 - val_accuracy: 0.7480
Epoch 458/750
123/123 [==============================] - 0s 3ms/step - loss: 0.2946 - accuracy: 0.8697 - val_loss: 0.6543 - val_accuracy: 0.7642
Epoch 459/750
123/123 [==============================] - 0s 3ms/step - loss: 0.2910 - accuracy: 0.8697 - val_loss: 0.6918 - val_accuracy: 0.7480
Epoch 460/750
123/123 [==============================] - 0s 3ms/step - loss: 0.2927 - accuracy: 0.8859 - val_loss: 0.5655 - val_accuracy: 0.7724
Epoch 461/750
123/123 [==============================] - 0s 3ms/step - loss: 0.2747 - accuracy: 0.8880 - val_loss: 0.6773 - val_accuracy: 0.7480
Epoch 462/750
123/123 [==============================] - 0s 3ms/step - loss: 0.2912 - accuracy: 0.8676 - val_loss: 0.6486 - val_accuracy: 0.7480
Epoch 463/750
123/123 [==============================] - 0s 3ms/step - loss: 0.2865 - accuracy: 0.8839 - val_loss: 0.6534 - val_accuracy: 0.7398
Epoch 464/750
123/123 [==============================] - 0s 3ms/step - loss: 0.2946 - accuracy: 0.8717 - val_loss: 0.6336 - val_accuracy: 0.7398
Epoch 465/750
123/123 [==============================] - 0s 3ms/step - loss: 0.2727 - accuracy: 0.8819 - val_loss: 0.7042 - val_accuracy: 0.7398
Epoch 466/750
123/123 [==============================] - 0s 2ms/step - loss: 0.2713 - accuracy: 0.8921 - val_loss: 0.7570 - val_accuracy: 0.7398
Epoch 467/750
123/123 [==============================] - 0s 2ms/step - loss: 0.2755 - accuracy: 0.8921 - val_loss: 0.6249 - val_accuracy: 0.7236
Epoch 468/750
123/123 [==============================] - 0s 3ms/step - loss: 0.2769 - accuracy: 0.8778 - val_loss: 0.6809 - val_accuracy: 0.7154
Epoch 469/750
123/123 [==============================] - 0s 2ms/step - loss: 0.2816 - accuracy: 0.8961 - val_loss: 0.6738 - val_accuracy: 0.7236
Epoch 470/750
123/123 [==============================] - 0s 3ms/step - loss: 0.2815 - accuracy: 0.8758 - val_loss: 0.6592 - val_accuracy: 0.7642
Epoch 471/750
123/123 [==============================] - 0s 3ms/step - loss: 0.2732 - accuracy: 0.8717 - val_loss: 0.6956 - val_accuracy: 0.7073
Epoch 472/750
123/123 [==============================] - 0s 2ms/step - loss: 0.2777 - accuracy: 0.8921 - val_loss: 0.6067 - val_accuracy: 0.7642
Epoch 473/750
123/123 [==============================] - 0s 3ms/step - loss: 0.2762 - accuracy: 0.8798 - val_loss: 0.6806 - val_accuracy: 0.7480
Epoch 474/750
123/123 [==============================] - 0s 3ms/step - loss: 0.2696 - accuracy: 0.8941 - val_loss: 0.7198 - val_accuracy: 0.7073
Epoch 475/750
123/123 [==============================] - 0s 2ms/step - loss: 0.2824 - accuracy: 0.8880 - val_loss: 0.6783 - val_accuracy: 0.7317
Epoch 476/750
123/123 [==============================] - 0s 3ms/step - loss: 0.3052 - accuracy: 0.8758 - val_loss: 0.7160 - val_accuracy: 0.7154
Epoch 477/750
123/123 [==============================] - 0s 3ms/step - loss: 0.2861 - accuracy: 0.8615 - val_loss: 0.7235 - val_accuracy: 0.7236
Epoch 478/750
123/123 [==============================] - 0s 2ms/step - loss: 0.2771 - accuracy: 0.8819 - val_loss: 0.7455 - val_accuracy: 0.6992
Epoch 479/750
123/123 [==============================] - 0s 3ms/step - loss: 0.2861 - accuracy: 0.8737 - val_loss: 0.6615 - val_accuracy: 0.7642
Epoch 480/750
123/123 [==============================] - 0s 2ms/step - loss: 0.2927 - accuracy: 0.8737 - val_loss: 0.7028 - val_accuracy: 0.7073
Epoch 481/750
123/123 [==============================] - 0s 3ms/step - loss: 0.2749 - accuracy: 0.8737 - val_loss: 0.6667 - val_accuracy: 0.7236
Epoch 482/750
123/123 [==============================] - 0s 3ms/step - loss: 0.2837 - accuracy: 0.8880 - val_loss: 0.6865 - val_accuracy: 0.7236
Epoch 483/750
123/123 [==============================] - 0s 3ms/step - loss: 0.2722 - accuracy: 0.8819 - val_loss: 0.7548 - val_accuracy: 0.7561
Epoch 484/750
123/123 [==============================] - 0s 3ms/step - loss: 0.2717 - accuracy: 0.8717 - val_loss: 0.7158 - val_accuracy: 0.7480
Epoch 485/750
123/123 [==============================] - 0s 2ms/step - loss: 0.2677 - accuracy: 0.8819 - val_loss: 0.7364 - val_accuracy: 0.7236
Epoch 486/750
123/123 [==============================] - 0s 3ms/step - loss: 0.2996 - accuracy: 0.8737 - val_loss: 0.5876 - val_accuracy: 0.7642
Epoch 487/750
123/123 [==============================] - 0s 3ms/step - loss: 0.2818 - accuracy: 0.8798 - val_loss: 0.6433 - val_accuracy: 0.7642
Epoch 488/750
123/123 [==============================] - 0s 3ms/step - loss: 0.2761 - accuracy: 0.8717 - val_loss: 0.6926 - val_accuracy: 0.7480
Epoch 489/750
123/123 [==============================] - 0s 3ms/step - loss: 0.2731 - accuracy: 0.8900 - val_loss: 0.7331 - val_accuracy: 0.7073
Epoch 490/750
123/123 [==============================] - 0s 3ms/step - loss: 0.2917 - accuracy: 0.8778 - val_loss: 0.6196 - val_accuracy: 0.7480
Epoch 491/750
123/123 [==============================] - 0s 3ms/step - loss: 0.2821 - accuracy: 0.8839 - val_loss: 0.6468 - val_accuracy: 0.7480
Epoch 492/750
123/123 [==============================] - 0s 3ms/step - loss: 0.2601 - accuracy: 0.8961 - val_loss: 0.8184 - val_accuracy: 0.6585
Epoch 493/750
123/123 [==============================] - 0s 2ms/step - loss: 0.2653 - accuracy: 0.8961 - val_loss: 0.7595 - val_accuracy: 0.7154
Epoch 494/750
123/123 [==============================] - 0s 3ms/step - loss: 0.2715 - accuracy: 0.8900 - val_loss: 0.6982 - val_accuracy: 0.6992
Epoch 495/750
123/123 [==============================] - 0s 2ms/step - loss: 0.2699 - accuracy: 0.8798 - val_loss: 0.6423 - val_accuracy: 0.7480
Epoch 496/750
123/123 [==============================] - 0s 2ms/step - loss: 0.2766 - accuracy: 0.8819 - val_loss: 0.6155 - val_accuracy: 0.7642
Epoch 497/750
123/123 [==============================] - 0s 2ms/step - loss: 0.2643 - accuracy: 0.8921 - val_loss: 0.7425 - val_accuracy: 0.7724
Epoch 498/750
123/123 [==============================] - 0s 2ms/step - loss: 0.2707 - accuracy: 0.8758 - val_loss: 0.6224 - val_accuracy: 0.7724
Epoch 499/750
123/123 [==============================] - 0s 3ms/step - loss: 0.2609 - accuracy: 0.8921 - val_loss: 0.6581 - val_accuracy: 0.7398
Epoch 500/750
123/123 [==============================] - 0s 3ms/step - loss: 0.2787 - accuracy: 0.8697 - val_loss: 0.6242 - val_accuracy: 0.7642
Epoch 501/750
123/123 [==============================] - 0s 2ms/step - loss: 0.2800 - accuracy: 0.8859 - val_loss: 0.7094 - val_accuracy: 0.7480
Epoch 502/750
123/123 [==============================] - 0s 3ms/step - loss: 0.2890 - accuracy: 0.8819 - val_loss: 0.6686 - val_accuracy: 0.7480
Epoch 503/750
123/123 [==============================] - 0s 3ms/step - loss: 0.2746 - accuracy: 0.8656 - val_loss: 0.6641 - val_accuracy: 0.7398
Epoch 504/750
123/123 [==============================] - 0s 2ms/step - loss: 0.2879 - accuracy: 0.8839 - val_loss: 0.7244 - val_accuracy: 0.7317
Epoch 505/750
123/123 [==============================] - 0s 3ms/step - loss: 0.2691 - accuracy: 0.9002 - val_loss: 0.6728 - val_accuracy: 0.7805
Epoch 506/750
123/123 [==============================] - 0s 2ms/step - loss: 0.2643 - accuracy: 0.8676 - val_loss: 0.7255 - val_accuracy: 0.7398
Epoch 507/750
123/123 [==============================] - 0s 2ms/step - loss: 0.2747 - accuracy: 0.8839 - val_loss: 0.6317 - val_accuracy: 0.7398
Epoch 508/750
123/123 [==============================] - 0s 3ms/step - loss: 0.2690 - accuracy: 0.8839 - val_loss: 0.7806 - val_accuracy: 0.7236
Epoch 509/750
123/123 [==============================] - 0s 3ms/step - loss: 0.2744 - accuracy: 0.8737 - val_loss: 0.7530 - val_accuracy: 0.7154
Epoch 510/750
123/123 [==============================] - 0s 3ms/step - loss: 0.2835 - accuracy: 0.8798 - val_loss: 0.6796 - val_accuracy: 0.7480
Epoch 511/750
123/123 [==============================] - 0s 3ms/step - loss: 0.2649 - accuracy: 0.9002 - val_loss: 0.6416 - val_accuracy: 0.7724
Epoch 512/750
123/123 [==============================] - 0s 3ms/step - loss: 0.2721 - accuracy: 0.8737 - val_loss: 0.6922 - val_accuracy: 0.7561
Epoch 513/750
123/123 [==============================] - 0s 2ms/step - loss: 0.2498 - accuracy: 0.9022 - val_loss: 0.7666 - val_accuracy: 0.7073
Epoch 514/750
123/123 [==============================] - 0s 3ms/step - loss: 0.2793 - accuracy: 0.8737 - val_loss: 0.8364 - val_accuracy: 0.6992
Epoch 515/750
123/123 [==============================] - 0s 3ms/step - loss: 0.2725 - accuracy: 0.8921 - val_loss: 0.7378 - val_accuracy: 0.7317
Epoch 516/750
123/123 [==============================] - 0s 3ms/step - loss: 0.2636 - accuracy: 0.8839 - val_loss: 0.7464 - val_accuracy: 0.7154
Epoch 517/750
123/123 [==============================] - 0s 2ms/step - loss: 0.2637 - accuracy: 0.8859 - val_loss: 0.7228 - val_accuracy: 0.7236
Epoch 518/750
123/123 [==============================] - 0s 3ms/step - loss: 0.2713 - accuracy: 0.8921 - val_loss: 0.8147 - val_accuracy: 0.7154
Epoch 519/750
123/123 [==============================] - 0s 3ms/step - loss: 0.2636 - accuracy: 0.8982 - val_loss: 0.7741 - val_accuracy: 0.7236
Epoch 520/750
123/123 [==============================] - 0s 3ms/step - loss: 0.2392 - accuracy: 0.8961 - val_loss: 0.7914 - val_accuracy: 0.7236
Epoch 521/750
123/123 [==============================] - 0s 3ms/step - loss: 0.2865 - accuracy: 0.8819 - val_loss: 0.7862 - val_accuracy: 0.7154
Epoch 522/750
123/123 [==============================] - 0s 3ms/step - loss: 0.2728 - accuracy: 0.8819 - val_loss: 0.9388 - val_accuracy: 0.7236
Epoch 523/750
123/123 [==============================] - 0s 3ms/step - loss: 0.2692 - accuracy: 0.8921 - val_loss: 0.7713 - val_accuracy: 0.7398
Epoch 524/750
123/123 [==============================] - 0s 3ms/step - loss: 0.2429 - accuracy: 0.9002 - val_loss: 0.7534 - val_accuracy: 0.7073
Epoch 525/750
123/123 [==============================] - 0s 3ms/step - loss: 0.2485 - accuracy: 0.9002 - val_loss: 0.7878 - val_accuracy: 0.7154
Epoch 526/750
123/123 [==============================] - 0s 3ms/step - loss: 0.2754 - accuracy: 0.8819 - val_loss: 0.7395 - val_accuracy: 0.7236
Epoch 527/750
123/123 [==============================] - 0s 3ms/step - loss: 0.2446 - accuracy: 0.8921 - val_loss: 0.7427 - val_accuracy: 0.7236
Epoch 528/750
123/123 [==============================] - 0s 3ms/step - loss: 0.2563 - accuracy: 0.8900 - val_loss: 0.7429 - val_accuracy: 0.7236
Epoch 529/750
123/123 [==============================] - 0s 2ms/step - loss: 0.2600 - accuracy: 0.8961 - val_loss: 0.9125 - val_accuracy: 0.6992
Epoch 530/750
123/123 [==============================] - 0s 3ms/step - loss: 0.2583 - accuracy: 0.8921 - val_loss: 0.6174 - val_accuracy: 0.7398
Epoch 531/750
123/123 [==============================] - 0s 2ms/step - loss: 0.2458 - accuracy: 0.8880 - val_loss: 0.6842 - val_accuracy: 0.7398
Epoch 532/750
123/123 [==============================] - 0s 3ms/step - loss: 0.2507 - accuracy: 0.8961 - val_loss: 0.6841 - val_accuracy: 0.7642
Epoch 533/750
123/123 [==============================] - 0s 2ms/step - loss: 0.2425 - accuracy: 0.9002 - val_loss: 0.8226 - val_accuracy: 0.7154
Epoch 534/750
123/123 [==============================] - 0s 3ms/step - loss: 0.2801 - accuracy: 0.8880 - val_loss: 0.7166 - val_accuracy: 0.7561
Epoch 535/750
123/123 [==============================] - 0s 3ms/step - loss: 0.2656 - accuracy: 0.8900 - val_loss: 0.7219 - val_accuracy: 0.7317
Epoch 536/750
123/123 [==============================] - 0s 3ms/step - loss: 0.2566 - accuracy: 0.8839 - val_loss: 0.7780 - val_accuracy: 0.7236
Epoch 537/750
123/123 [==============================] - 0s 3ms/step - loss: 0.2594 - accuracy: 0.8880 - val_loss: 0.7989 - val_accuracy: 0.7154
Epoch 538/750
123/123 [==============================] - 0s 3ms/step - loss: 0.2540 - accuracy: 0.8921 - val_loss: 0.7374 - val_accuracy: 0.7480
Epoch 539/750
123/123 [==============================] - 0s 3ms/step - loss: 0.2495 - accuracy: 0.8961 - val_loss: 0.8197 - val_accuracy: 0.7398
Epoch 540/750
123/123 [==============================] - 0s 3ms/step - loss: 0.2385 - accuracy: 0.8941 - val_loss: 0.8263 - val_accuracy: 0.7154
Epoch 541/750
123/123 [==============================] - 0s 2ms/step - loss: 0.2699 - accuracy: 0.8961 - val_loss: 0.7339 - val_accuracy: 0.7561
Epoch 542/750
123/123 [==============================] - 0s 3ms/step - loss: 0.2664 - accuracy: 0.8880 - val_loss: 0.7862 - val_accuracy: 0.7236
Epoch 543/750
123/123 [==============================] - 0s 2ms/step - loss: 0.2361 - accuracy: 0.8921 - val_loss: 0.7326 - val_accuracy: 0.7398
Epoch 544/750
123/123 [==============================] - 0s 2ms/step - loss: 0.2451 - accuracy: 0.9002 - val_loss: 0.7968 - val_accuracy: 0.7154
Epoch 545/750
123/123 [==============================] - 0s 3ms/step - loss: 0.2491 - accuracy: 0.8900 - val_loss: 0.7350 - val_accuracy: 0.7236
Epoch 546/750
123/123 [==============================] - 0s 2ms/step - loss: 0.2409 - accuracy: 0.8900 - val_loss: 0.6685 - val_accuracy: 0.7561
Epoch 547/750
123/123 [==============================] - 0s 2ms/step - loss: 0.2519 - accuracy: 0.8819 - val_loss: 0.8380 - val_accuracy: 0.7154
Epoch 548/750
123/123 [==============================] - 0s 3ms/step - loss: 0.2411 - accuracy: 0.9185 - val_loss: 0.8051 - val_accuracy: 0.6748
Epoch 549/750
123/123 [==============================] - 0s 2ms/step - loss: 0.2694 - accuracy: 0.8900 - val_loss: 0.8224 - val_accuracy: 0.7317
Epoch 550/750
123/123 [==============================] - 0s 3ms/step - loss: 0.2459 - accuracy: 0.8982 - val_loss: 0.8203 - val_accuracy: 0.7317
Epoch 551/750
123/123 [==============================] - 0s 3ms/step - loss: 0.2742 - accuracy: 0.8859 - val_loss: 0.7323 - val_accuracy: 0.7480
Epoch 552/750
123/123 [==============================] - 0s 3ms/step - loss: 0.2601 - accuracy: 0.8900 - val_loss: 0.6795 - val_accuracy: 0.7561
Epoch 553/750
123/123 [==============================] - 0s 3ms/step - loss: 0.2592 - accuracy: 0.8798 - val_loss: 0.9427 - val_accuracy: 0.6667
Epoch 554/750
123/123 [==============================] - 0s 2ms/step - loss: 0.2672 - accuracy: 0.8839 - val_loss: 0.7695 - val_accuracy: 0.7317
Epoch 555/750
123/123 [==============================] - 0s 3ms/step - loss: 0.2453 - accuracy: 0.8941 - val_loss: 1.0611 - val_accuracy: 0.6667
Epoch 556/750
123/123 [==============================] - 0s 3ms/step - loss: 0.2611 - accuracy: 0.8859 - val_loss: 0.7234 - val_accuracy: 0.7317
Epoch 557/750
123/123 [==============================] - 0s 3ms/step - loss: 0.2525 - accuracy: 0.8921 - val_loss: 1.1380 - val_accuracy: 0.6341
Epoch 558/750
123/123 [==============================] - 0s 2ms/step - loss: 0.2534 - accuracy: 0.9002 - val_loss: 0.8189 - val_accuracy: 0.7154
Epoch 559/750
123/123 [==============================] - 0s 3ms/step - loss: 0.2477 - accuracy: 0.8839 - val_loss: 0.9815 - val_accuracy: 0.6911
Epoch 560/750
123/123 [==============================] - 0s 2ms/step - loss: 0.2548 - accuracy: 0.8900 - val_loss: 0.7658 - val_accuracy: 0.7317
Epoch 561/750
123/123 [==============================] - 0s 2ms/step - loss: 0.2617 - accuracy: 0.8839 - val_loss: 1.0698 - val_accuracy: 0.6667
Epoch 562/750
123/123 [==============================] - 0s 2ms/step - loss: 0.2526 - accuracy: 0.8880 - val_loss: 0.7511 - val_accuracy: 0.7317
Epoch 563/750
123/123 [==============================] - 0s 3ms/step - loss: 0.2425 - accuracy: 0.8880 - val_loss: 0.7497 - val_accuracy: 0.7398
Epoch 564/750
123/123 [==============================] - 0s 3ms/step - loss: 0.2577 - accuracy: 0.8778 - val_loss: 0.8111 - val_accuracy: 0.7480
Epoch 565/750
123/123 [==============================] - 0s 2ms/step - loss: 0.2319 - accuracy: 0.9002 - val_loss: 0.8472 - val_accuracy: 0.7154
Epoch 566/750
123/123 [==============================] - 0s 3ms/step - loss: 0.2532 - accuracy: 0.8900 - val_loss: 0.8078 - val_accuracy: 0.7236
Epoch 567/750
123/123 [==============================] - 0s 2ms/step - loss: 0.2586 - accuracy: 0.8737 - val_loss: 0.7883 - val_accuracy: 0.7317
Epoch 568/750
123/123 [==============================] - 0s 2ms/step - loss: 0.2263 - accuracy: 0.9084 - val_loss: 0.7420 - val_accuracy: 0.7480
Epoch 569/750
123/123 [==============================] - 0s 3ms/step - loss: 0.2415 - accuracy: 0.8941 - val_loss: 0.9150 - val_accuracy: 0.6829
Epoch 570/750
123/123 [==============================] - 0s 3ms/step - loss: 0.2498 - accuracy: 0.8900 - val_loss: 0.8966 - val_accuracy: 0.7154
Epoch 571/750
123/123 [==============================] - 0s 3ms/step - loss: 0.2441 - accuracy: 0.8798 - val_loss: 0.7131 - val_accuracy: 0.7480
Epoch 572/750
123/123 [==============================] - 0s 3ms/step - loss: 0.2484 - accuracy: 0.8839 - val_loss: 1.0673 - val_accuracy: 0.6911
Epoch 573/750
123/123 [==============================] - 0s 3ms/step - loss: 0.2620 - accuracy: 0.8758 - val_loss: 0.8898 - val_accuracy: 0.7073
Epoch 574/750
123/123 [==============================] - 0s 3ms/step - loss: 0.2504 - accuracy: 0.8941 - val_loss: 0.8569 - val_accuracy: 0.7236
Epoch 575/750
123/123 [==============================] - 0s 3ms/step - loss: 0.2347 - accuracy: 0.9104 - val_loss: 0.9122 - val_accuracy: 0.7317
Epoch 576/750
123/123 [==============================] - 0s 3ms/step - loss: 0.2601 - accuracy: 0.8859 - val_loss: 0.8183 - val_accuracy: 0.7236
Epoch 577/750
123/123 [==============================] - 0s 3ms/step - loss: 0.2481 - accuracy: 0.9002 - val_loss: 0.7636 - val_accuracy: 0.7317
Epoch 578/750
123/123 [==============================] - 0s 3ms/step - loss: 0.2310 - accuracy: 0.9124 - val_loss: 0.7267 - val_accuracy: 0.7317
Epoch 579/750
123/123 [==============================] - 0s 3ms/step - loss: 0.2509 - accuracy: 0.8859 - val_loss: 0.7902 - val_accuracy: 0.7154
Epoch 580/750
123/123 [==============================] - 0s 3ms/step - loss: 0.2314 - accuracy: 0.9063 - val_loss: 0.8522 - val_accuracy: 0.7398
Epoch 581/750
123/123 [==============================] - 0s 2ms/step - loss: 0.2335 - accuracy: 0.8982 - val_loss: 0.8268 - val_accuracy: 0.7398
Epoch 582/750
123/123 [==============================] - 0s 3ms/step - loss: 0.2346 - accuracy: 0.9002 - val_loss: 0.7101 - val_accuracy: 0.7561
Epoch 583/750
123/123 [==============================] - 0s 2ms/step - loss: 0.2363 - accuracy: 0.9022 - val_loss: 0.7498 - val_accuracy: 0.7236
Epoch 584/750
123/123 [==============================] - 0s 3ms/step - loss: 0.2377 - accuracy: 0.8982 - val_loss: 0.7568 - val_accuracy: 0.7317
Epoch 585/750
123/123 [==============================] - 0s 3ms/step - loss: 0.2338 - accuracy: 0.9084 - val_loss: 0.8104 - val_accuracy: 0.7236
Epoch 586/750
123/123 [==============================] - 0s 3ms/step - loss: 0.2252 - accuracy: 0.9002 - val_loss: 0.8140 - val_accuracy: 0.7317
Epoch 587/750
123/123 [==============================] - 0s 3ms/step - loss: 0.2577 - accuracy: 0.8819 - val_loss: 0.9076 - val_accuracy: 0.7236
Epoch 588/750
123/123 [==============================] - 0s 3ms/step - loss: 0.2295 - accuracy: 0.9063 - val_loss: 0.8873 - val_accuracy: 0.7154
Epoch 589/750
123/123 [==============================] - 0s 3ms/step - loss: 0.2217 - accuracy: 0.9084 - val_loss: 0.8239 - val_accuracy: 0.7317
Epoch 590/750
123/123 [==============================] - 0s 2ms/step - loss: 0.2328 - accuracy: 0.9043 - val_loss: 0.8043 - val_accuracy: 0.7398
Epoch 591/750
123/123 [==============================] - 0s 3ms/step - loss: 0.2241 - accuracy: 0.9145 - val_loss: 0.8680 - val_accuracy: 0.7236
Epoch 592/750
123/123 [==============================] - 0s 2ms/step - loss: 0.2193 - accuracy: 0.9063 - val_loss: 0.7700 - val_accuracy: 0.7480
Epoch 593/750
123/123 [==============================] - 0s 2ms/step - loss: 0.2501 - accuracy: 0.9022 - val_loss: 0.7298 - val_accuracy: 0.7480
Epoch 594/750
123/123 [==============================] - 0s 3ms/step - loss: 0.2209 - accuracy: 0.8982 - val_loss: 0.8323 - val_accuracy: 0.7398
Epoch 595/750
123/123 [==============================] - 0s 2ms/step - loss: 0.2529 - accuracy: 0.8921 - val_loss: 0.9798 - val_accuracy: 0.6992
Epoch 596/750
123/123 [==============================] - 0s 2ms/step - loss: 0.2475 - accuracy: 0.8921 - val_loss: 0.7083 - val_accuracy: 0.7561
Epoch 597/750
123/123 [==============================] - 0s 2ms/step - loss: 0.2333 - accuracy: 0.8961 - val_loss: 0.9498 - val_accuracy: 0.7073
Epoch 598/750
123/123 [==============================] - 0s 3ms/step - loss: 0.2305 - accuracy: 0.9104 - val_loss: 0.8134 - val_accuracy: 0.7236
Epoch 599/750
123/123 [==============================] - 0s 3ms/step - loss: 0.2474 - accuracy: 0.8921 - val_loss: 0.8292 - val_accuracy: 0.7236
Epoch 600/750
123/123 [==============================] - 0s 2ms/step - loss: 0.2239 - accuracy: 0.9022 - val_loss: 0.8822 - val_accuracy: 0.7073
Epoch 601/750
123/123 [==============================] - 0s 3ms/step - loss: 0.2434 - accuracy: 0.8941 - val_loss: 0.8455 - val_accuracy: 0.6992
Epoch 602/750
123/123 [==============================] - 0s 3ms/step - loss: 0.2374 - accuracy: 0.8982 - val_loss: 0.8024 - val_accuracy: 0.7317
Epoch 603/750
123/123 [==============================] - 0s 3ms/step - loss: 0.2322 - accuracy: 0.9002 - val_loss: 0.7878 - val_accuracy: 0.7154
Epoch 604/750
123/123 [==============================] - 0s 3ms/step - loss: 0.2334 - accuracy: 0.8961 - val_loss: 0.8172 - val_accuracy: 0.7236
Epoch 605/750
123/123 [==============================] - 0s 3ms/step - loss: 0.2347 - accuracy: 0.9063 - val_loss: 0.9076 - val_accuracy: 0.6829
Epoch 606/750
123/123 [==============================] - 0s 2ms/step - loss: 0.2460 - accuracy: 0.8900 - val_loss: 0.8552 - val_accuracy: 0.7236
Epoch 607/750
123/123 [==============================] - 0s 3ms/step - loss: 0.2239 - accuracy: 0.9043 - val_loss: 0.8815 - val_accuracy: 0.7073
Epoch 608/750
123/123 [==============================] - 0s 2ms/step - loss: 0.2282 - accuracy: 0.9063 - val_loss: 0.8439 - val_accuracy: 0.7154
Epoch 609/750
123/123 [==============================] - 0s 3ms/step - loss: 0.2142 - accuracy: 0.9206 - val_loss: 0.8305 - val_accuracy: 0.7154
Epoch 610/750
123/123 [==============================] - 0s 3ms/step - loss: 0.2242 - accuracy: 0.9043 - val_loss: 0.7953 - val_accuracy: 0.7317
Epoch 611/750
123/123 [==============================] - 0s 3ms/step - loss: 0.2210 - accuracy: 0.9104 - val_loss: 0.7924 - val_accuracy: 0.7561
Epoch 612/750
123/123 [==============================] - 0s 3ms/step - loss: 0.2174 - accuracy: 0.9063 - val_loss: 0.7821 - val_accuracy: 0.7561
Epoch 613/750
123/123 [==============================] - 0s 3ms/step - loss: 0.2602 - accuracy: 0.8839 - val_loss: 1.0295 - val_accuracy: 0.7073
Epoch 614/750
123/123 [==============================] - 0s 3ms/step - loss: 0.3054 - accuracy: 0.8615 - val_loss: 0.7738 - val_accuracy: 0.7480
Epoch 615/750
123/123 [==============================] - 0s 2ms/step - loss: 0.2197 - accuracy: 0.9124 - val_loss: 0.8293 - val_accuracy: 0.7154
Epoch 616/750
123/123 [==============================] - 0s 2ms/step - loss: 0.2127 - accuracy: 0.9145 - val_loss: 0.7571 - val_accuracy: 0.7480
Epoch 617/750
123/123 [==============================] - 0s 3ms/step - loss: 0.2585 - accuracy: 0.8819 - val_loss: 0.8787 - val_accuracy: 0.7236
Epoch 618/750
123/123 [==============================] - 0s 3ms/step - loss: 0.2205 - accuracy: 0.9043 - val_loss: 0.7706 - val_accuracy: 0.7398
Epoch 619/750
123/123 [==============================] - 0s 3ms/step - loss: 0.2450 - accuracy: 0.9022 - val_loss: 0.7107 - val_accuracy: 0.7642
Epoch 620/750
123/123 [==============================] - 0s 3ms/step - loss: 0.2244 - accuracy: 0.9104 - val_loss: 0.8394 - val_accuracy: 0.7317
Epoch 621/750
123/123 [==============================] - 0s 3ms/step - loss: 0.2107 - accuracy: 0.9104 - val_loss: 0.8686 - val_accuracy: 0.7154
Epoch 622/750
123/123 [==============================] - 0s 2ms/step - loss: 0.2142 - accuracy: 0.9185 - val_loss: 0.8238 - val_accuracy: 0.7642
Epoch 623/750
123/123 [==============================] - 0s 3ms/step - loss: 0.2416 - accuracy: 0.9022 - val_loss: 0.8876 - val_accuracy: 0.7398
Epoch 624/750
123/123 [==============================] - 0s 3ms/step - loss: 0.2440 - accuracy: 0.9002 - val_loss: 0.8507 - val_accuracy: 0.7561
Epoch 625/750
123/123 [==============================] - 0s 3ms/step - loss: 0.2220 - accuracy: 0.9145 - val_loss: 0.8466 - val_accuracy: 0.7154
Epoch 626/750
123/123 [==============================] - 0s 3ms/step - loss: 0.2149 - accuracy: 0.9043 - val_loss: 0.9839 - val_accuracy: 0.7154
Epoch 627/750
123/123 [==============================] - 0s 3ms/step - loss: 0.2224 - accuracy: 0.9145 - val_loss: 0.8235 - val_accuracy: 0.7236
Epoch 628/750
123/123 [==============================] - 0s 3ms/step - loss: 0.2154 - accuracy: 0.9145 - val_loss: 0.9372 - val_accuracy: 0.6911
Epoch 629/750
123/123 [==============================] - 0s 3ms/step - loss: 0.2230 - accuracy: 0.9084 - val_loss: 0.7547 - val_accuracy: 0.7561
Epoch 630/750
123/123 [==============================] - 0s 3ms/step - loss: 0.2259 - accuracy: 0.9124 - val_loss: 0.9452 - val_accuracy: 0.7236
Epoch 631/750
123/123 [==============================] - 0s 3ms/step - loss: 0.2254 - accuracy: 0.9124 - val_loss: 0.8988 - val_accuracy: 0.6992
Epoch 632/750
123/123 [==============================] - 0s 3ms/step - loss: 0.2124 - accuracy: 0.9104 - val_loss: 0.8200 - val_accuracy: 0.7236
Epoch 633/750
123/123 [==============================] - 0s 2ms/step - loss: 0.2123 - accuracy: 0.9124 - val_loss: 1.1662 - val_accuracy: 0.7073
Epoch 634/750
123/123 [==============================] - 0s 2ms/step - loss: 0.2504 - accuracy: 0.9063 - val_loss: 1.0009 - val_accuracy: 0.6992
Epoch 635/750
123/123 [==============================] - 0s 3ms/step - loss: 0.2142 - accuracy: 0.9104 - val_loss: 0.9336 - val_accuracy: 0.6992
Epoch 636/750
123/123 [==============================] - 0s 3ms/step - loss: 0.2077 - accuracy: 0.9104 - val_loss: 0.9676 - val_accuracy: 0.7073
Epoch 637/750
123/123 [==============================] - 0s 3ms/step - loss: 0.2098 - accuracy: 0.9165 - val_loss: 0.9203 - val_accuracy: 0.7154
Epoch 638/750
123/123 [==============================] - 0s 3ms/step - loss: 0.2308 - accuracy: 0.9022 - val_loss: 0.8977 - val_accuracy: 0.6992
Epoch 639/750
123/123 [==============================] - 0s 3ms/step - loss: 0.2007 - accuracy: 0.9104 - val_loss: 0.9677 - val_accuracy: 0.7236
Epoch 640/750
123/123 [==============================] - 0s 2ms/step - loss: 0.2261 - accuracy: 0.9145 - val_loss: 0.9235 - val_accuracy: 0.6911
Epoch 641/750
123/123 [==============================] - 0s 3ms/step - loss: 0.2258 - accuracy: 0.9084 - val_loss: 0.8326 - val_accuracy: 0.7398
Epoch 642/750
123/123 [==============================] - 0s 2ms/step - loss: 0.1970 - accuracy: 0.9287 - val_loss: 0.9377 - val_accuracy: 0.7480
Epoch 643/750
123/123 [==============================] - 0s 3ms/step - loss: 0.2118 - accuracy: 0.9165 - val_loss: 0.8490 - val_accuracy: 0.7236
Epoch 644/750
123/123 [==============================] - 0s 3ms/step - loss: 0.2045 - accuracy: 0.9226 - val_loss: 0.8887 - val_accuracy: 0.6992
Epoch 645/750
123/123 [==============================] - 0s 3ms/step - loss: 0.2123 - accuracy: 0.9206 - val_loss: 0.8907 - val_accuracy: 0.7154
Epoch 646/750
123/123 [==============================] - 0s 3ms/step - loss: 0.2077 - accuracy: 0.9165 - val_loss: 0.8347 - val_accuracy: 0.7398
Epoch 647/750
123/123 [==============================] - 0s 3ms/step - loss: 0.2244 - accuracy: 0.8941 - val_loss: 0.8716 - val_accuracy: 0.7236
Epoch 648/750
123/123 [==============================] - 0s 2ms/step - loss: 0.2182 - accuracy: 0.9063 - val_loss: 0.9825 - val_accuracy: 0.7317
Epoch 649/750
123/123 [==============================] - 0s 3ms/step - loss: 0.2215 - accuracy: 0.9063 - val_loss: 0.8442 - val_accuracy: 0.7317
Epoch 650/750
123/123 [==============================] - 0s 3ms/step - loss: 0.2114 - accuracy: 0.9084 - val_loss: 0.8200 - val_accuracy: 0.7398
Epoch 651/750
123/123 [==============================] - 0s 2ms/step - loss: 0.2184 - accuracy: 0.9185 - val_loss: 0.8699 - val_accuracy: 0.7398
Epoch 652/750
123/123 [==============================] - 0s 3ms/step - loss: 0.2078 - accuracy: 0.9145 - val_loss: 0.8681 - val_accuracy: 0.7561
Epoch 653/750
123/123 [==============================] - 0s 3ms/step - loss: 0.2085 - accuracy: 0.9165 - val_loss: 0.8414 - val_accuracy: 0.7398
Epoch 654/750
123/123 [==============================] - 0s 3ms/step - loss: 0.1916 - accuracy: 0.9348 - val_loss: 0.9844 - val_accuracy: 0.7073
Epoch 655/750
123/123 [==============================] - 0s 3ms/step - loss: 0.2128 - accuracy: 0.9002 - val_loss: 0.9908 - val_accuracy: 0.7236
Epoch 656/750
123/123 [==============================] - 0s 3ms/step - loss: 0.2832 - accuracy: 0.8717 - val_loss: 0.8359 - val_accuracy: 0.7480
Epoch 657/750
123/123 [==============================] - 0s 2ms/step - loss: 0.2312 - accuracy: 0.8982 - val_loss: 0.7393 - val_accuracy: 0.7642
Epoch 658/750
123/123 [==============================] - 0s 3ms/step - loss: 0.2392 - accuracy: 0.8778 - val_loss: 0.8904 - val_accuracy: 0.7236
Epoch 659/750
123/123 [==============================] - 0s 2ms/step - loss: 0.1778 - accuracy: 0.9246 - val_loss: 0.8946 - val_accuracy: 0.7236
Epoch 660/750
123/123 [==============================] - 0s 3ms/step - loss: 0.1883 - accuracy: 0.9267 - val_loss: 0.8544 - val_accuracy: 0.7073
Epoch 661/750
123/123 [==============================] - 0s 3ms/step - loss: 0.2189 - accuracy: 0.9104 - val_loss: 0.8454 - val_accuracy: 0.7236
Epoch 662/750
123/123 [==============================] - 0s 3ms/step - loss: 0.2032 - accuracy: 0.9124 - val_loss: 0.8275 - val_accuracy: 0.7642
Epoch 663/750
123/123 [==============================] - 0s 3ms/step - loss: 0.2062 - accuracy: 0.9206 - val_loss: 0.8682 - val_accuracy: 0.7561
Epoch 664/750
123/123 [==============================] - 0s 3ms/step - loss: 0.2382 - accuracy: 0.9022 - val_loss: 0.9399 - val_accuracy: 0.7398
Epoch 665/750
123/123 [==============================] - 0s 3ms/step - loss: 0.2450 - accuracy: 0.9002 - val_loss: 1.0052 - val_accuracy: 0.7154
Epoch 666/750
123/123 [==============================] - 0s 3ms/step - loss: 0.1900 - accuracy: 0.9308 - val_loss: 0.8846 - val_accuracy: 0.7398
Epoch 667/750
123/123 [==============================] - 0s 3ms/step - loss: 0.2327 - accuracy: 0.8982 - val_loss: 0.9501 - val_accuracy: 0.7073
Epoch 668/750
123/123 [==============================] - 0s 3ms/step - loss: 0.2041 - accuracy: 0.9145 - val_loss: 0.8017 - val_accuracy: 0.7317
Epoch 669/750
123/123 [==============================] - 0s 3ms/step - loss: 0.2092 - accuracy: 0.9145 - val_loss: 1.0307 - val_accuracy: 0.6829
Epoch 670/750
123/123 [==============================] - 0s 3ms/step - loss: 0.1950 - accuracy: 0.9267 - val_loss: 0.9984 - val_accuracy: 0.7073
Epoch 671/750
123/123 [==============================] - 0s 3ms/step - loss: 0.1944 - accuracy: 0.9348 - val_loss: 0.9497 - val_accuracy: 0.7236
Epoch 672/750
123/123 [==============================] - 0s 3ms/step - loss: 0.1823 - accuracy: 0.9287 - val_loss: 0.9395 - val_accuracy: 0.7154
Epoch 673/750
123/123 [==============================] - 0s 3ms/step - loss: 0.2276 - accuracy: 0.9185 - val_loss: 0.8491 - val_accuracy: 0.7317
Epoch 674/750
123/123 [==============================] - 0s 3ms/step - loss: 0.2021 - accuracy: 0.9185 - val_loss: 0.8680 - val_accuracy: 0.7236
Epoch 675/750
123/123 [==============================] - 0s 3ms/step - loss: 0.1955 - accuracy: 0.9226 - val_loss: 1.2191 - val_accuracy: 0.6748
Epoch 676/750
123/123 [==============================] - 0s 2ms/step - loss: 0.2301 - accuracy: 0.8961 - val_loss: 1.0252 - val_accuracy: 0.6992
Epoch 677/750
123/123 [==============================] - 0s 2ms/step - loss: 0.2156 - accuracy: 0.9084 - val_loss: 0.8180 - val_accuracy: 0.7317
Epoch 678/750
123/123 [==============================] - 0s 2ms/step - loss: 0.1962 - accuracy: 0.9165 - val_loss: 0.9595 - val_accuracy: 0.7480
Epoch 679/750
123/123 [==============================] - 0s 3ms/step - loss: 0.1965 - accuracy: 0.9308 - val_loss: 1.0335 - val_accuracy: 0.6829
Epoch 680/750
123/123 [==============================] - 0s 3ms/step - loss: 0.1949 - accuracy: 0.9226 - val_loss: 0.8289 - val_accuracy: 0.7480
Epoch 681/750
123/123 [==============================] - 0s 3ms/step - loss: 0.2118 - accuracy: 0.9246 - val_loss: 0.9589 - val_accuracy: 0.7154
Epoch 682/750
123/123 [==============================] - 0s 3ms/step - loss: 0.1943 - accuracy: 0.9287 - val_loss: 0.9819 - val_accuracy: 0.6911
Epoch 683/750
123/123 [==============================] - 0s 3ms/step - loss: 0.1956 - accuracy: 0.9267 - val_loss: 0.8567 - val_accuracy: 0.7317
Epoch 684/750
123/123 [==============================] - 0s 2ms/step - loss: 0.1974 - accuracy: 0.9226 - val_loss: 0.8815 - val_accuracy: 0.7317
Epoch 685/750
123/123 [==============================] - 0s 2ms/step - loss: 0.2006 - accuracy: 0.9226 - val_loss: 0.8555 - val_accuracy: 0.7236
Epoch 686/750
123/123 [==============================] - 0s 2ms/step - loss: 0.1988 - accuracy: 0.9165 - val_loss: 0.8698 - val_accuracy: 0.7317
Epoch 687/750
123/123 [==============================] - 0s 3ms/step - loss: 0.2235 - accuracy: 0.9124 - val_loss: 1.1192 - val_accuracy: 0.6585
Epoch 688/750
123/123 [==============================] - 0s 3ms/step - loss: 0.1895 - accuracy: 0.9185 - val_loss: 0.8410 - val_accuracy: 0.7398
Epoch 689/750
123/123 [==============================] - 0s 3ms/step - loss: 0.1905 - accuracy: 0.9246 - val_loss: 0.9352 - val_accuracy: 0.7236
Epoch 690/750
123/123 [==============================] - 0s 3ms/step - loss: 0.1886 - accuracy: 0.9165 - val_loss: 0.8929 - val_accuracy: 0.7154
Epoch 691/750
123/123 [==============================] - 0s 3ms/step - loss: 0.2102 - accuracy: 0.9104 - val_loss: 0.9403 - val_accuracy: 0.6748
Epoch 692/750
123/123 [==============================] - 0s 2ms/step - loss: 0.2068 - accuracy: 0.9185 - val_loss: 0.8577 - val_accuracy: 0.7154
Epoch 693/750
123/123 [==============================] - 0s 3ms/step - loss: 0.1860 - accuracy: 0.9389 - val_loss: 0.8994 - val_accuracy: 0.7236
Epoch 694/750
123/123 [==============================] - 0s 3ms/step - loss: 0.1802 - accuracy: 0.9308 - val_loss: 0.9244 - val_accuracy: 0.7398
Epoch 695/750
123/123 [==============================] - 0s 3ms/step - loss: 0.2188 - accuracy: 0.9043 - val_loss: 0.9910 - val_accuracy: 0.6992
Epoch 696/750
123/123 [==============================] - 0s 3ms/step - loss: 0.1837 - accuracy: 0.9328 - val_loss: 0.8360 - val_accuracy: 0.7480
Epoch 697/750
123/123 [==============================] - 0s 2ms/step - loss: 0.2018 - accuracy: 0.9206 - val_loss: 0.9689 - val_accuracy: 0.7398
Epoch 698/750
123/123 [==============================] - 0s 3ms/step - loss: 0.1920 - accuracy: 0.9246 - val_loss: 1.1648 - val_accuracy: 0.6911
Epoch 699/750
123/123 [==============================] - 0s 3ms/step - loss: 0.1853 - accuracy: 0.9308 - val_loss: 0.9805 - val_accuracy: 0.6911
Epoch 700/750
123/123 [==============================] - 0s 2ms/step - loss: 0.1832 - accuracy: 0.9328 - val_loss: 0.8899 - val_accuracy: 0.7398
Epoch 701/750
123/123 [==============================] - 0s 3ms/step - loss: 0.1846 - accuracy: 0.9206 - val_loss: 0.8884 - val_accuracy: 0.7398
Epoch 702/750
123/123 [==============================] - 0s 2ms/step - loss: 0.1963 - accuracy: 0.9206 - val_loss: 1.0144 - val_accuracy: 0.7236
Epoch 703/750
123/123 [==============================] - 0s 3ms/step - loss: 0.1783 - accuracy: 0.9328 - val_loss: 0.8980 - val_accuracy: 0.7561
Epoch 704/750
123/123 [==============================] - 0s 3ms/step - loss: 0.1978 - accuracy: 0.9165 - val_loss: 0.9401 - val_accuracy: 0.7154
Epoch 705/750
123/123 [==============================] - 0s 2ms/step - loss: 0.2017 - accuracy: 0.9185 - val_loss: 0.9576 - val_accuracy: 0.7480
Epoch 706/750
123/123 [==============================] - 0s 3ms/step - loss: 0.1771 - accuracy: 0.9287 - val_loss: 1.0638 - val_accuracy: 0.7561
Epoch 707/750
123/123 [==============================] - 0s 3ms/step - loss: 0.2009 - accuracy: 0.9145 - val_loss: 1.0364 - val_accuracy: 0.6992
Epoch 708/750
123/123 [==============================] - 0s 3ms/step - loss: 0.1799 - accuracy: 0.9206 - val_loss: 0.9756 - val_accuracy: 0.7317
Epoch 709/750
123/123 [==============================] - 0s 3ms/step - loss: 0.1765 - accuracy: 0.9185 - val_loss: 1.0597 - val_accuracy: 0.6992
Epoch 710/750
123/123 [==============================] - 0s 3ms/step - loss: 0.1823 - accuracy: 0.9206 - val_loss: 0.9828 - val_accuracy: 0.7236
Epoch 711/750
123/123 [==============================] - 0s 3ms/step - loss: 0.2332 - accuracy: 0.9104 - val_loss: 0.9353 - val_accuracy: 0.7561
Epoch 712/750
123/123 [==============================] - 0s 3ms/step - loss: 0.1691 - accuracy: 0.9308 - val_loss: 1.0006 - val_accuracy: 0.7398
Epoch 713/750
123/123 [==============================] - 0s 2ms/step - loss: 0.1710 - accuracy: 0.9287 - val_loss: 1.1131 - val_accuracy: 0.7398
Epoch 714/750
123/123 [==============================] - 0s 2ms/step - loss: 0.1691 - accuracy: 0.9369 - val_loss: 1.0790 - val_accuracy: 0.7317
Epoch 715/750
123/123 [==============================] - 0s 3ms/step - loss: 0.2156 - accuracy: 0.9165 - val_loss: 0.8897 - val_accuracy: 0.7480
Epoch 716/750
123/123 [==============================] - 0s 3ms/step - loss: 0.2308 - accuracy: 0.9022 - val_loss: 0.9987 - val_accuracy: 0.7073
Epoch 717/750
123/123 [==============================] - 0s 2ms/step - loss: 0.1967 - accuracy: 0.9124 - val_loss: 0.9608 - val_accuracy: 0.7154
Epoch 718/750
123/123 [==============================] - 0s 3ms/step - loss: 0.1723 - accuracy: 0.9328 - val_loss: 1.0000 - val_accuracy: 0.7073
Epoch 719/750
123/123 [==============================] - 0s 3ms/step - loss: 0.1405 - accuracy: 0.9552 - val_loss: 1.1076 - val_accuracy: 0.7317
Epoch 720/750
123/123 [==============================] - 0s 3ms/step - loss: 0.2218 - accuracy: 0.9084 - val_loss: 1.0628 - val_accuracy: 0.7154
Epoch 721/750
123/123 [==============================] - 0s 2ms/step - loss: 0.1842 - accuracy: 0.9287 - val_loss: 0.9590 - val_accuracy: 0.7154
Epoch 722/750
123/123 [==============================] - 0s 3ms/step - loss: 0.3937 - accuracy: 0.8615 - val_loss: 0.9176 - val_accuracy: 0.7398
Epoch 723/750
123/123 [==============================] - 0s 3ms/step - loss: 0.1985 - accuracy: 0.9226 - val_loss: 0.9311 - val_accuracy: 0.7236
Epoch 724/750
123/123 [==============================] - 0s 3ms/step - loss: 0.1633 - accuracy: 0.9369 - val_loss: 1.0728 - val_accuracy: 0.7073
Epoch 725/750
123/123 [==============================] - 0s 3ms/step - loss: 0.1818 - accuracy: 0.9328 - val_loss: 0.9281 - val_accuracy: 0.6992
Epoch 726/750
123/123 [==============================] - 0s 3ms/step - loss: 0.1622 - accuracy: 0.9348 - val_loss: 1.1240 - val_accuracy: 0.7236
Epoch 727/750
123/123 [==============================] - 0s 2ms/step - loss: 0.1702 - accuracy: 0.9328 - val_loss: 0.9098 - val_accuracy: 0.7073
Epoch 728/750
123/123 [==============================] - 0s 3ms/step - loss: 0.1528 - accuracy: 0.9430 - val_loss: 1.0679 - val_accuracy: 0.7073
Epoch 729/750
123/123 [==============================] - 0s 3ms/step - loss: 0.1593 - accuracy: 0.9409 - val_loss: 1.0566 - val_accuracy: 0.7398
Epoch 730/750
123/123 [==============================] - 0s 3ms/step - loss: 0.1788 - accuracy: 0.9246 - val_loss: 0.9995 - val_accuracy: 0.7236
Epoch 731/750
123/123 [==============================] - 0s 3ms/step - loss: 0.1814 - accuracy: 0.9267 - val_loss: 1.0159 - val_accuracy: 0.7073
Epoch 732/750
123/123 [==============================] - 0s 2ms/step - loss: 0.1626 - accuracy: 0.9430 - val_loss: 1.0967 - val_accuracy: 0.7073
Epoch 733/750
123/123 [==============================] - 0s 2ms/step - loss: 0.1955 - accuracy: 0.9145 - val_loss: 0.9264 - val_accuracy: 0.7317
Epoch 734/750
123/123 [==============================] - 0s 3ms/step - loss: 0.1726 - accuracy: 0.9308 - val_loss: 1.1027 - val_accuracy: 0.6748
Epoch 735/750
123/123 [==============================] - 0s 3ms/step - loss: 0.1733 - accuracy: 0.9409 - val_loss: 0.9970 - val_accuracy: 0.7236
Epoch 736/750
123/123 [==============================] - 0s 3ms/step - loss: 0.1620 - accuracy: 0.9348 - val_loss: 1.0713 - val_accuracy: 0.6911
Epoch 737/750
123/123 [==============================] - 0s 3ms/step - loss: 0.1914 - accuracy: 0.9267 - val_loss: 1.0064 - val_accuracy: 0.7317
Epoch 738/750
123/123 [==============================] - 0s 2ms/step - loss: 0.1686 - accuracy: 0.9328 - val_loss: 1.1842 - val_accuracy: 0.7317
Epoch 739/750
123/123 [==============================] - 0s 3ms/step - loss: 0.1611 - accuracy: 0.9328 - val_loss: 1.1431 - val_accuracy: 0.6911
Epoch 740/750
123/123 [==============================] - 0s 3ms/step - loss: 0.2054 - accuracy: 0.9063 - val_loss: 1.0116 - val_accuracy: 0.7317
Epoch 741/750
123/123 [==============================] - 0s 3ms/step - loss: 0.1695 - accuracy: 0.9369 - val_loss: 0.9441 - val_accuracy: 0.7073
Epoch 742/750
123/123 [==============================] - 0s 2ms/step - loss: 0.1596 - accuracy: 0.9369 - val_loss: 0.9986 - val_accuracy: 0.7236
Epoch 743/750
123/123 [==============================] - 0s 3ms/step - loss: 0.1704 - accuracy: 0.9206 - val_loss: 0.9797 - val_accuracy: 0.7236
Epoch 744/750
123/123 [==============================] - 0s 2ms/step - loss: 0.1992 - accuracy: 0.9226 - val_loss: 1.1571 - val_accuracy: 0.7154
Epoch 745/750
123/123 [==============================] - 0s 2ms/step - loss: 0.1574 - accuracy: 0.9348 - val_loss: 1.0684 - val_accuracy: 0.7236
Epoch 746/750
123/123 [==============================] - 0s 3ms/step - loss: 0.1868 - accuracy: 0.9145 - val_loss: 1.1903 - val_accuracy: 0.7236
Epoch 747/750
123/123 [==============================] - 0s 2ms/step - loss: 0.1766 - accuracy: 0.9308 - val_loss: 0.9969 - val_accuracy: 0.7317
Epoch 748/750
123/123 [==============================] - 0s 2ms/step - loss: 0.2771 - accuracy: 0.8941 - val_loss: 0.8909 - val_accuracy: 0.7480
Epoch 749/750
123/123 [==============================] - 0s 2ms/step - loss: 0.1889 - accuracy: 0.9185 - val_loss: 0.9370 - val_accuracy: 0.7154
Epoch 750/750
123/123 [==============================] - 0s 3ms/step - loss: 0.1827 - accuracy: 0.9206 - val_loss: 1.0409 - val_accuracy: 0.7073
11. Plot the training loss and accuracy

import matplotlib.pyplot as plt 
acc = hist.history['accuracy']
val_acc = hist.history['val_accuracy']
loss = hist.history['loss']
val_loss = hist.history['val_loss']
 
epochs = range(len(acc))
 
plt.plot(epochs, acc, 'b', label='Training acc')
plt.plot(epochs, val_acc, 'r', label='Validation acc')
plt.title('Training and validation accuracy')
plt.legend()
plt.savefig('custom_trainvalacc.png')
plt.figure()
 
plt.plot(epochs, loss, 'b', label='Training loss')
plt.plot(epochs, val_loss, 'r', label='Validation loss')
plt.title('Training and validation loss')
plt.legend()
 
#plt.show()
plt.savefig('custom_trainvalloss.png')
plt.figure()
<Figure size 432x288 with 0 Axes>


<Figure size 432x288 with 0 Axes>
12. Evaluate the performance

res =model.evaluate(X_testing, Y_testing)
5/5 [==============================] - 0s 3ms/step - loss: 1.0562 - accuracy: 0.7208
13. Predict on new datatset

test=X_testing[0]
y_act=Y_testing[0]
result=model.predict(test.reshape(1,8))
result
array([[0.5125998 , 0.48740014]], dtype=float32)
import numpy as np
y_pred = np.round(result)
print("Actual:"+ str(y_act))
print("Predicted:"+str(y_pred))
Actual:[1. 0.]
Predicted:[[1. 0.]]
Reference: - https://keras.io/
